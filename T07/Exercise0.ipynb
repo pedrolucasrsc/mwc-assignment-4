{
 "cells": [
  {
   "cell_type": "markdown",
   "id": "25cbc15b",
   "metadata": {
    "editable": true,
    "slideshow": {
     "slide_type": "slide"
    },
    "tags": []
   },
   "source": [
    "# Tutorial 07\n",
    "\n",
    "## Analysis of physiological data (part 2)"
   ]
  },
  {
   "cell_type": "markdown",
   "id": "5827b0f0-5988-4e9f-a17d-ee3b732ce933",
   "metadata": {
    "editable": true,
    "slideshow": {
     "slide_type": "slide"
    },
    "tags": []
   },
   "source": [
    "# Warning"
   ]
  },
  {
   "cell_type": "markdown",
   "id": "9a8a44ad-5f58-4a5f-bc00-f665e6c3718b",
   "metadata": {
    "editable": true,
    "slideshow": {
     "slide_type": "fragment"
    },
    "tags": []
   },
   "source": [
    "## NO NOT SHARE THE DATA WE PROVIDE YOU\n",
    "## DO NOT POST IT ONLINE\n",
    "## DO NOT USE ONLINE TOOLS LIKE GOOGLE COLAB TO RUN THE TUTORIAL"
   ]
  },
  {
   "cell_type": "markdown",
   "id": "fd8cf920-e0a7-48bf-89ec-b5e08bf812a3",
   "metadata": {
    "editable": true,
    "slideshow": {
     "slide_type": "fragment"
    },
    "tags": []
   },
   "source": [
    "The data is property of the University and is sensitive."
   ]
  },
  {
   "cell_type": "markdown",
   "id": "c243a453",
   "metadata": {
    "editable": true,
    "slideshow": {
     "slide_type": "subslide"
    },
    "tags": []
   },
   "source": [
    "## Slides Content\n",
    "\n",
    "### 1. Recap\n",
    "### 2. Topic description\n",
    "### 3. Let's work!"
   ]
  },
  {
   "cell_type": "markdown",
   "id": "01c1bf97",
   "metadata": {
    "editable": true,
    "slideshow": {
     "slide_type": "slide"
    },
    "tags": []
   },
   "source": [
    "# Recap"
   ]
  },
  {
   "cell_type": "markdown",
   "id": "4809c489",
   "metadata": {
    "editable": true,
    "slideshow": {
     "slide_type": "subslide"
    },
    "tags": []
   },
   "source": [
    "### What did we do?\n",
    "\n",
    "#### • Describe wearable devices and sensors"
   ]
  },
  {
   "cell_type": "markdown",
   "id": "44f9c0d9",
   "metadata": {
    "editable": true,
    "slideshow": {
     "slide_type": "fragment"
    },
    "tags": []
   },
   "source": [
    "#### • Analyse EDA data during **engagement**"
   ]
  },
  {
   "cell_type": "markdown",
   "id": "2a05a5cd",
   "metadata": {
    "editable": true,
    "slideshow": {
     "slide_type": "fragment"
    },
    "tags": []
   },
   "source": [
    "### How did we handle data?\n",
    "\n",
    "#### • Load"
   ]
  },
  {
   "cell_type": "markdown",
   "id": "5da606bb",
   "metadata": {
    "editable": true,
    "slideshow": {
     "slide_type": "fragment"
    },
    "tags": []
   },
   "source": [
    "#### • Filter"
   ]
  },
  {
   "cell_type": "markdown",
   "id": "c8ea6d64",
   "metadata": {
    "editable": true,
    "slideshow": {
     "slide_type": "fragment"
    },
    "tags": []
   },
   "source": [
    "#### • Segment"
   ]
  },
  {
   "cell_type": "markdown",
   "id": "db835f1b-6b7c-4f88-b0ad-6db58886c5b6",
   "metadata": {
    "editable": true,
    "slideshow": {
     "slide_type": "fragment"
    },
    "tags": []
   },
   "source": [
    "#### • Normalize"
   ]
  },
  {
   "cell_type": "markdown",
   "id": "075f5451",
   "metadata": {
    "editable": true,
    "slideshow": {
     "slide_type": "fragment"
    },
    "tags": []
   },
   "source": [
    "#### • Extract Feature"
   ]
  },
  {
   "cell_type": "markdown",
   "id": "e6c3b261-27b8-44cd-91bc-9a0063544460",
   "metadata": {
    "editable": true,
    "slideshow": {
     "slide_type": "fragment"
    },
    "tags": []
   },
   "source": [
    "#### • Investigate features while engaged or not"
   ]
  },
  {
   "cell_type": "markdown",
   "id": "7b32bd44",
   "metadata": {
    "editable": true,
    "slideshow": {
     "slide_type": "slide"
    },
    "tags": []
   },
   "source": [
    "# All clear? Any questions?"
   ]
  },
  {
   "cell_type": "markdown",
   "id": "58c5eb76",
   "metadata": {
    "editable": true,
    "slideshow": {
     "slide_type": "slide"
    },
    "tags": []
   },
   "source": [
    "# Topic description"
   ]
  },
  {
   "cell_type": "markdown",
   "id": "3bd0b518-38a7-4d54-bc0d-7067ba31c624",
   "metadata": {
    "editable": true,
    "jp-MarkdownHeadingCollapsed": true,
    "slideshow": {
     "slide_type": "fragment"
    },
    "tags": []
   },
   "source": [
    "### • Perform some statistical analysis"
   ]
  },
  {
   "cell_type": "markdown",
   "id": "85c0a005",
   "metadata": {
    "editable": true,
    "slideshow": {
     "slide_type": "fragment"
    },
    "tags": []
   },
   "source": [
    "### • Predict Engagement in the classroom"
   ]
  },
  {
   "cell_type": "markdown",
   "id": "89c0cdd4-ffdc-4f84-8398-71221c2139d7",
   "metadata": {
    "editable": true,
    "jp-MarkdownHeadingCollapsed": true,
    "slideshow": {
     "slide_type": "fragment"
    },
    "tags": []
   },
   "source": [
    "### • Use Machine Learning"
   ]
  },
  {
   "cell_type": "markdown",
   "id": "3b934a5f-4276-4668-b2d9-6fce063aaf97",
   "metadata": {
    "editable": true,
    "slideshow": {
     "slide_type": "fragment"
    },
    "tags": []
   },
   "source": [
    "### • How to validate? We'll see 🤓"
   ]
  },
  {
   "cell_type": "markdown",
   "id": "d12eba25",
   "metadata": {
    "editable": true,
    "slideshow": {
     "slide_type": "subslide"
    },
    "tags": []
   },
   "source": [
    "## Our data [3]"
   ]
  },
  {
   "cell_type": "markdown",
   "id": "1e17371c",
   "metadata": {
    "editable": true,
    "slideshow": {
     "slide_type": "fragment"
    },
    "tags": []
   },
   "source": [
    "### • EDA from Empatica E4 device from **multiple participants**"
   ]
  },
  {
   "cell_type": "markdown",
   "id": "e9912b29",
   "metadata": {
    "editable": true,
    "slideshow": {
     "slide_type": "fragment"
    },
    "tags": []
   },
   "source": [
    "### • Collected during lectures"
   ]
  },
  {
   "cell_type": "markdown",
   "id": "1552129d",
   "metadata": {
    "editable": true,
    "slideshow": {
     "slide_type": "fragment"
    },
    "tags": []
   },
   "source": [
    "### • Self-report for engagement level (high vs low)"
   ]
  },
  {
   "cell_type": "markdown",
   "id": "0ca0a2aa",
   "metadata": {
    "editable": true,
    "slideshow": {
     "slide_type": "subslide"
    },
    "tags": []
   },
   "source": [
    "## Why use EDA data? 🤔"
   ]
  },
  {
   "cell_type": "markdown",
   "id": "9512a642",
   "metadata": {
    "editable": true,
    "slideshow": {
     "slide_type": "subslide"
    },
    "tags": []
   },
   "source": [
    "# EDA ↔ Autonomic Nervous System"
   ]
  },
  {
   "cell_type": "markdown",
   "id": "0ff98944",
   "metadata": {
    "editable": true,
    "slideshow": {
     "slide_type": "slide"
    },
    "tags": []
   },
   "source": [
    "# All clear? Any questions?"
   ]
  },
  {
   "cell_type": "markdown",
   "id": "45f718b7",
   "metadata": {
    "editable": false,
    "slideshow": {
     "slide_type": "slide"
    },
    "tags": []
   },
   "source": [
    "# Hands on!"
   ]
  },
  {
   "cell_type": "markdown",
   "id": "713465bd-90d0-46f1-beb0-759c54c23fe9",
   "metadata": {
    "editable": true,
    "slideshow": {
     "slide_type": "subslide"
    },
    "tags": []
   },
   "source": [
    "In the previous lecture you installed the following libraries. If you have not, please do now.\n",
    "- pandas\n",
    "- numpy\n",
    "- scipy\n",
    "- neurokit2\n",
    "- seaborn\n",
    "- plotly\n",
    "- matplotlib\n"
   ]
  },
  {
   "cell_type": "markdown",
   "id": "696eb0a0-2510-47e6-97a4-d96c8c6b56ab",
   "metadata": {
    "editable": true,
    "slideshow": {
     "slide_type": "fragment"
    },
    "tags": []
   },
   "source": [
    "We now also have to instalal some additional libraries, to use Machine Learning:\n",
    "\n",
    "- scikit-learn\n",
    "- xgboost\n",
    "- tqdm and ipywidgets, to have a progressbar!\n",
    "- effect_size_analysis (only with `pip install`)"
   ]
  },
  {
   "cell_type": "markdown",
   "id": "138428d8-5328-4f67-ac5c-4c3fb32d9748",
   "metadata": {
    "editable": true,
    "slideshow": {
     "slide_type": "subslide"
    },
    "tags": []
   },
   "source": [
    "If you want to use the environment from the previous tutorial, you can install just these 3 packages:\n",
    "```bash\n",
    "conda install -c conda-forge scikit-learn xgboost tqdm ipywidgets\n",
    "```\n",
    "and\n",
    "```bash\n",
    "pip install effect_size_analysis\n",
    "```\n"
   ]
  },
  {
   "cell_type": "markdown",
   "id": "83899038-6ec3-4801-89b7-cff1d2ff993a",
   "metadata": {
    "editable": true,
    "slideshow": {
     "slide_type": "fragment"
    },
    "tags": []
   },
   "source": [
    "Or, you can create a new environment!\n",
    "```bash\n",
    "conda env create -f environment.yml\n",
    "```\n"
   ]
  },
  {
   "cell_type": "code",
   "execution_count": 1,
   "id": "4c574d19",
   "metadata": {
    "editable": true,
    "slideshow": {
     "slide_type": "skip"
    },
    "tags": []
   },
   "outputs": [
    {
     "data": {
      "text/html": [
       "        <script type=\"text/javascript\">\n",
       "        window.PlotlyConfig = {MathJaxConfig: 'local'};\n",
       "        if (window.MathJax && window.MathJax.Hub && window.MathJax.Hub.Config) {window.MathJax.Hub.Config({SVG: {font: \"STIX-Web\"}});}\n",
       "        if (typeof require !== 'undefined') {\n",
       "        require.undef(\"plotly\");\n",
       "        requirejs.config({\n",
       "            paths: {\n",
       "                'plotly': ['https://cdn.plot.ly/plotly-2.27.0.min']\n",
       "            }\n",
       "        });\n",
       "        require(['plotly'], function(Plotly) {\n",
       "            window._Plotly = Plotly;\n",
       "        });\n",
       "        }\n",
       "        </script>\n",
       "        "
      ]
     },
     "metadata": {},
     "output_type": "display_data"
    },
    {
     "ename": "KeyboardInterrupt",
     "evalue": "",
     "output_type": "error",
     "traceback": [
      "\u001b[0;31m---------------------------------------------------------------------------\u001b[0m",
      "\u001b[0;31mKeyboardInterrupt\u001b[0m                         Traceback (most recent call last)",
      "Cell \u001b[0;32mIn[1], line 32\u001b[0m\n\u001b[1;32m     29\u001b[0m \u001b[38;5;28;01mimport\u001b[39;00m \u001b[38;5;21;01mplotly\u001b[39;00m\u001b[38;5;21;01m.\u001b[39;00m\u001b[38;5;21;01moffline\u001b[39;00m \u001b[38;5;28;01mas\u001b[39;00m \u001b[38;5;21;01moffline\u001b[39;00m\n\u001b[1;32m     30\u001b[0m \u001b[38;5;28;01mimport\u001b[39;00m \u001b[38;5;21;01mplotly\u001b[39;00m\u001b[38;5;21;01m.\u001b[39;00m\u001b[38;5;21;01mgraph_objs\u001b[39;00m \u001b[38;5;28;01mas\u001b[39;00m \u001b[38;5;21;01mgo\u001b[39;00m\n\u001b[0;32m---> 32\u001b[0m \u001b[38;5;28;01mfrom\u001b[39;00m \u001b[38;5;21;01mneurokit2\u001b[39;00m\u001b[38;5;21;01m.\u001b[39;00m\u001b[38;5;21;01meda\u001b[39;00m \u001b[38;5;28;01mimport\u001b[39;00m eda_peaks\n\u001b[1;32m     33\u001b[0m \u001b[38;5;28;01mfrom\u001b[39;00m \u001b[38;5;21;01mwarnings\u001b[39;00m \u001b[38;5;28;01mimport\u001b[39;00m warn\n\u001b[1;32m     35\u001b[0m \u001b[38;5;28;01mfrom\u001b[39;00m \u001b[38;5;21;01mtime\u001b[39;00m \u001b[38;5;28;01mimport\u001b[39;00m time\n",
      "File \u001b[0;32m/opt/anaconda3/envs/mwct06/lib/python3.11/site-packages/neurokit2/__init__.py:13\u001b[0m\n\u001b[1;32m     10\u001b[0m \u001b[38;5;28;01mimport\u001b[39;00m \u001b[38;5;21;01mscipy\u001b[39;00m\n\u001b[1;32m     11\u001b[0m \u001b[38;5;28;01mimport\u001b[39;00m \u001b[38;5;21;01msklearn\u001b[39;00m\n\u001b[0;32m---> 13\u001b[0m \u001b[38;5;28;01mfrom\u001b[39;00m \u001b[38;5;21;01m.\u001b[39;00m\u001b[38;5;21;01mbenchmark\u001b[39;00m \u001b[38;5;28;01mimport\u001b[39;00m \u001b[38;5;241m*\u001b[39m\n\u001b[1;32m     14\u001b[0m \u001b[38;5;28;01mfrom\u001b[39;00m \u001b[38;5;21;01m.\u001b[39;00m\u001b[38;5;21;01mbio\u001b[39;00m \u001b[38;5;28;01mimport\u001b[39;00m \u001b[38;5;241m*\u001b[39m\n\u001b[1;32m     15\u001b[0m \u001b[38;5;28;01mfrom\u001b[39;00m \u001b[38;5;21;01m.\u001b[39;00m\u001b[38;5;21;01mcomplexity\u001b[39;00m \u001b[38;5;28;01mimport\u001b[39;00m \u001b[38;5;241m*\u001b[39m\n",
      "File \u001b[0;32m/opt/anaconda3/envs/mwct06/lib/python3.11/site-packages/neurokit2/benchmark/__init__.py:3\u001b[0m\n\u001b[1;32m      1\u001b[0m \u001b[38;5;124;03m\"\"\"Submodule for NeuroKit.\"\"\"\u001b[39;00m\n\u001b[0;32m----> 3\u001b[0m \u001b[38;5;28;01mfrom\u001b[39;00m \u001b[38;5;21;01m.\u001b[39;00m\u001b[38;5;21;01mbenchmark_ecg\u001b[39;00m \u001b[38;5;28;01mimport\u001b[39;00m benchmark_ecg_preprocessing\n\u001b[1;32m      6\u001b[0m __all__ \u001b[38;5;241m=\u001b[39m [\n\u001b[1;32m      7\u001b[0m     \u001b[38;5;124m\"\u001b[39m\u001b[38;5;124mbenchmark_ecg_preprocessing\u001b[39m\u001b[38;5;124m\"\u001b[39m,\n\u001b[1;32m      8\u001b[0m ]\n",
      "File \u001b[0;32m/opt/anaconda3/envs/mwct06/lib/python3.11/site-packages/neurokit2/benchmark/benchmark_ecg.py:7\u001b[0m\n\u001b[1;32m      4\u001b[0m \u001b[38;5;28;01mimport\u001b[39;00m \u001b[38;5;21;01mnumpy\u001b[39;00m \u001b[38;5;28;01mas\u001b[39;00m \u001b[38;5;21;01mnp\u001b[39;00m\n\u001b[1;32m      5\u001b[0m \u001b[38;5;28;01mimport\u001b[39;00m \u001b[38;5;21;01mpandas\u001b[39;00m \u001b[38;5;28;01mas\u001b[39;00m \u001b[38;5;21;01mpd\u001b[39;00m\n\u001b[0;32m----> 7\u001b[0m \u001b[38;5;28;01mfrom\u001b[39;00m \u001b[38;5;21;01m.\u001b[39;00m\u001b[38;5;21;01m.\u001b[39;00m\u001b[38;5;21;01msignal\u001b[39;00m \u001b[38;5;28;01mimport\u001b[39;00m signal_period\n\u001b[1;32m     10\u001b[0m \u001b[38;5;28;01mdef\u001b[39;00m \u001b[38;5;21mbenchmark_ecg_preprocessing\u001b[39m(function, ecg, rpeaks\u001b[38;5;241m=\u001b[39m\u001b[38;5;28;01mNone\u001b[39;00m, sampling_rate\u001b[38;5;241m=\u001b[39m\u001b[38;5;241m1000\u001b[39m):\n\u001b[1;32m     11\u001b[0m \u001b[38;5;250m    \u001b[39m\u001b[38;5;124;03m\"\"\"**Benchmark ECG preprocessing pipelines**\u001b[39;00m\n\u001b[1;32m     12\u001b[0m \n\u001b[1;32m     13\u001b[0m \u001b[38;5;124;03m    Parameters\u001b[39;00m\n\u001b[0;32m   (...)\u001b[0m\n\u001b[1;32m     53\u001b[0m \n\u001b[1;32m     54\u001b[0m \u001b[38;5;124;03m    \"\"\"\u001b[39;00m\n",
      "File \u001b[0;32m/opt/anaconda3/envs/mwct06/lib/python3.11/site-packages/neurokit2/signal/__init__.py:3\u001b[0m\n\u001b[1;32m      1\u001b[0m \u001b[38;5;124;03m\"\"\"Submodule for NeuroKit.\"\"\"\u001b[39;00m\n\u001b[1;32m      2\u001b[0m \u001b[38;5;28;01mfrom\u001b[39;00m \u001b[38;5;21;01m.\u001b[39;00m\u001b[38;5;21;01msignal_autocor\u001b[39;00m \u001b[38;5;28;01mimport\u001b[39;00m signal_autocor\n\u001b[0;32m----> 3\u001b[0m \u001b[38;5;28;01mfrom\u001b[39;00m \u001b[38;5;21;01m.\u001b[39;00m\u001b[38;5;21;01msignal_binarize\u001b[39;00m \u001b[38;5;28;01mimport\u001b[39;00m signal_binarize\n\u001b[1;32m      4\u001b[0m \u001b[38;5;28;01mfrom\u001b[39;00m \u001b[38;5;21;01m.\u001b[39;00m\u001b[38;5;21;01msignal_changepoints\u001b[39;00m \u001b[38;5;28;01mimport\u001b[39;00m signal_changepoints\n\u001b[1;32m      5\u001b[0m \u001b[38;5;28;01mfrom\u001b[39;00m \u001b[38;5;21;01m.\u001b[39;00m\u001b[38;5;21;01msignal_decompose\u001b[39;00m \u001b[38;5;28;01mimport\u001b[39;00m signal_decompose\n",
      "File \u001b[0;32m/opt/anaconda3/envs/mwct06/lib/python3.11/site-packages/neurokit2/signal/signal_binarize.py:4\u001b[0m\n\u001b[1;32m      2\u001b[0m \u001b[38;5;28;01mimport\u001b[39;00m \u001b[38;5;21;01mnumpy\u001b[39;00m \u001b[38;5;28;01mas\u001b[39;00m \u001b[38;5;21;01mnp\u001b[39;00m\n\u001b[1;32m      3\u001b[0m \u001b[38;5;28;01mimport\u001b[39;00m \u001b[38;5;21;01mpandas\u001b[39;00m \u001b[38;5;28;01mas\u001b[39;00m \u001b[38;5;21;01mpd\u001b[39;00m\n\u001b[0;32m----> 4\u001b[0m \u001b[38;5;28;01mimport\u001b[39;00m \u001b[38;5;21;01msklearn\u001b[39;00m\u001b[38;5;21;01m.\u001b[39;00m\u001b[38;5;21;01mmixture\u001b[39;00m\n\u001b[1;32m      7\u001b[0m \u001b[38;5;28;01mdef\u001b[39;00m \u001b[38;5;21msignal_binarize\u001b[39m(signal, method\u001b[38;5;241m=\u001b[39m\u001b[38;5;124m\"\u001b[39m\u001b[38;5;124mthreshold\u001b[39m\u001b[38;5;124m\"\u001b[39m, threshold\u001b[38;5;241m=\u001b[39m\u001b[38;5;124m\"\u001b[39m\u001b[38;5;124mauto\u001b[39m\u001b[38;5;124m\"\u001b[39m):\n\u001b[1;32m      8\u001b[0m \u001b[38;5;250m    \u001b[39m\u001b[38;5;124;03m\"\"\"**Binarize a continuous signal**\u001b[39;00m\n\u001b[1;32m      9\u001b[0m \n\u001b[1;32m     10\u001b[0m \u001b[38;5;124;03m    Convert a continuous signal into zeros and ones depending on a given threshold.\u001b[39;00m\n\u001b[0;32m   (...)\u001b[0m\n\u001b[1;32m     46\u001b[0m \n\u001b[1;32m     47\u001b[0m \u001b[38;5;124;03m    \"\"\"\u001b[39;00m\n",
      "File \u001b[0;32m/opt/anaconda3/envs/mwct06/lib/python3.11/site-packages/sklearn/mixture/__init__.py:3\u001b[0m\n\u001b[1;32m      1\u001b[0m \u001b[38;5;124;03m\"\"\"Mixture modeling algorithms.\"\"\"\u001b[39;00m\n\u001b[0;32m----> 3\u001b[0m \u001b[38;5;28;01mfrom\u001b[39;00m \u001b[38;5;21;01m.\u001b[39;00m\u001b[38;5;21;01m_bayesian_mixture\u001b[39;00m \u001b[38;5;28;01mimport\u001b[39;00m BayesianGaussianMixture\n\u001b[1;32m      4\u001b[0m \u001b[38;5;28;01mfrom\u001b[39;00m \u001b[38;5;21;01m.\u001b[39;00m\u001b[38;5;21;01m_gaussian_mixture\u001b[39;00m \u001b[38;5;28;01mimport\u001b[39;00m GaussianMixture\n\u001b[1;32m      6\u001b[0m __all__ \u001b[38;5;241m=\u001b[39m [\u001b[38;5;124m\"\u001b[39m\u001b[38;5;124mGaussianMixture\u001b[39m\u001b[38;5;124m\"\u001b[39m, \u001b[38;5;124m\"\u001b[39m\u001b[38;5;124mBayesianGaussianMixture\u001b[39m\u001b[38;5;124m\"\u001b[39m]\n",
      "File \u001b[0;32m/opt/anaconda3/envs/mwct06/lib/python3.11/site-packages/sklearn/mixture/_bayesian_mixture.py:15\u001b[0m\n\u001b[1;32m     13\u001b[0m \u001b[38;5;28;01mfrom\u001b[39;00m \u001b[38;5;21;01m.\u001b[39;00m\u001b[38;5;21;01m.\u001b[39;00m\u001b[38;5;21;01mutils\u001b[39;00m \u001b[38;5;28;01mimport\u001b[39;00m check_array\n\u001b[1;32m     14\u001b[0m \u001b[38;5;28;01mfrom\u001b[39;00m \u001b[38;5;21;01m.\u001b[39;00m\u001b[38;5;21;01m.\u001b[39;00m\u001b[38;5;21;01mutils\u001b[39;00m\u001b[38;5;21;01m.\u001b[39;00m\u001b[38;5;21;01m_param_validation\u001b[39;00m \u001b[38;5;28;01mimport\u001b[39;00m Interval, StrOptions\n\u001b[0;32m---> 15\u001b[0m \u001b[38;5;28;01mfrom\u001b[39;00m \u001b[38;5;21;01m.\u001b[39;00m\u001b[38;5;21;01m_base\u001b[39;00m \u001b[38;5;28;01mimport\u001b[39;00m BaseMixture, _check_shape\n\u001b[1;32m     16\u001b[0m \u001b[38;5;28;01mfrom\u001b[39;00m \u001b[38;5;21;01m.\u001b[39;00m\u001b[38;5;21;01m_gaussian_mixture\u001b[39;00m \u001b[38;5;28;01mimport\u001b[39;00m (\n\u001b[1;32m     17\u001b[0m     _check_precision_matrix,\n\u001b[1;32m     18\u001b[0m     _check_precision_positivity,\n\u001b[0;32m   (...)\u001b[0m\n\u001b[1;32m     22\u001b[0m     _estimate_log_gaussian_prob,\n\u001b[1;32m     23\u001b[0m )\n\u001b[1;32m     26\u001b[0m \u001b[38;5;28;01mdef\u001b[39;00m \u001b[38;5;21m_log_dirichlet_norm\u001b[39m(dirichlet_concentration):\n",
      "File \u001b[0;32m/opt/anaconda3/envs/mwct06/lib/python3.11/site-packages/sklearn/mixture/_base.py:15\u001b[0m\n\u001b[1;32m     12\u001b[0m \u001b[38;5;28;01mimport\u001b[39;00m \u001b[38;5;21;01mnumpy\u001b[39;00m \u001b[38;5;28;01mas\u001b[39;00m \u001b[38;5;21;01mnp\u001b[39;00m\n\u001b[1;32m     13\u001b[0m \u001b[38;5;28;01mfrom\u001b[39;00m \u001b[38;5;21;01mscipy\u001b[39;00m\u001b[38;5;21;01m.\u001b[39;00m\u001b[38;5;21;01mspecial\u001b[39;00m \u001b[38;5;28;01mimport\u001b[39;00m logsumexp\n\u001b[0;32m---> 15\u001b[0m \u001b[38;5;28;01mfrom\u001b[39;00m \u001b[38;5;21;01m.\u001b[39;00m\u001b[38;5;21;01m.\u001b[39;00m \u001b[38;5;28;01mimport\u001b[39;00m cluster\n\u001b[1;32m     16\u001b[0m \u001b[38;5;28;01mfrom\u001b[39;00m \u001b[38;5;21;01m.\u001b[39;00m\u001b[38;5;21;01m.\u001b[39;00m\u001b[38;5;21;01mbase\u001b[39;00m \u001b[38;5;28;01mimport\u001b[39;00m BaseEstimator, DensityMixin, _fit_context\n\u001b[1;32m     17\u001b[0m \u001b[38;5;28;01mfrom\u001b[39;00m \u001b[38;5;21;01m.\u001b[39;00m\u001b[38;5;21;01m.\u001b[39;00m\u001b[38;5;21;01mcluster\u001b[39;00m \u001b[38;5;28;01mimport\u001b[39;00m kmeans_plusplus\n",
      "File \u001b[0;32m/opt/anaconda3/envs/mwct06/lib/python3.11/site-packages/sklearn/cluster/__init__.py:13\u001b[0m\n\u001b[1;32m     11\u001b[0m \u001b[38;5;28;01mfrom\u001b[39;00m \u001b[38;5;21;01m.\u001b[39;00m\u001b[38;5;21;01m_birch\u001b[39;00m \u001b[38;5;28;01mimport\u001b[39;00m Birch\n\u001b[1;32m     12\u001b[0m \u001b[38;5;28;01mfrom\u001b[39;00m \u001b[38;5;21;01m.\u001b[39;00m\u001b[38;5;21;01m_bisect_k_means\u001b[39;00m \u001b[38;5;28;01mimport\u001b[39;00m BisectingKMeans\n\u001b[0;32m---> 13\u001b[0m \u001b[38;5;28;01mfrom\u001b[39;00m \u001b[38;5;21;01m.\u001b[39;00m\u001b[38;5;21;01m_dbscan\u001b[39;00m \u001b[38;5;28;01mimport\u001b[39;00m DBSCAN, dbscan\n\u001b[1;32m     14\u001b[0m \u001b[38;5;28;01mfrom\u001b[39;00m \u001b[38;5;21;01m.\u001b[39;00m\u001b[38;5;21;01m_hdbscan\u001b[39;00m\u001b[38;5;21;01m.\u001b[39;00m\u001b[38;5;21;01mhdbscan\u001b[39;00m \u001b[38;5;28;01mimport\u001b[39;00m HDBSCAN\n\u001b[1;32m     15\u001b[0m \u001b[38;5;28;01mfrom\u001b[39;00m \u001b[38;5;21;01m.\u001b[39;00m\u001b[38;5;21;01m_kmeans\u001b[39;00m \u001b[38;5;28;01mimport\u001b[39;00m KMeans, MiniBatchKMeans, k_means, kmeans_plusplus\n",
      "File \u001b[0;32m/opt/anaconda3/envs/mwct06/lib/python3.11/site-packages/sklearn/cluster/_dbscan.py:19\u001b[0m\n\u001b[1;32m     17\u001b[0m \u001b[38;5;28;01mfrom\u001b[39;00m \u001b[38;5;21;01m.\u001b[39;00m\u001b[38;5;21;01m.\u001b[39;00m\u001b[38;5;21;01mbase\u001b[39;00m \u001b[38;5;28;01mimport\u001b[39;00m BaseEstimator, ClusterMixin, _fit_context\n\u001b[1;32m     18\u001b[0m \u001b[38;5;28;01mfrom\u001b[39;00m \u001b[38;5;21;01m.\u001b[39;00m\u001b[38;5;21;01m.\u001b[39;00m\u001b[38;5;21;01mmetrics\u001b[39;00m\u001b[38;5;21;01m.\u001b[39;00m\u001b[38;5;21;01mpairwise\u001b[39;00m \u001b[38;5;28;01mimport\u001b[39;00m _VALID_METRICS\n\u001b[0;32m---> 19\u001b[0m \u001b[38;5;28;01mfrom\u001b[39;00m \u001b[38;5;21;01m.\u001b[39;00m\u001b[38;5;21;01m.\u001b[39;00m\u001b[38;5;21;01mneighbors\u001b[39;00m \u001b[38;5;28;01mimport\u001b[39;00m NearestNeighbors\n\u001b[1;32m     20\u001b[0m \u001b[38;5;28;01mfrom\u001b[39;00m \u001b[38;5;21;01m.\u001b[39;00m\u001b[38;5;21;01m.\u001b[39;00m\u001b[38;5;21;01mutils\u001b[39;00m\u001b[38;5;21;01m.\u001b[39;00m\u001b[38;5;21;01m_param_validation\u001b[39;00m \u001b[38;5;28;01mimport\u001b[39;00m Interval, StrOptions, validate_params\n\u001b[1;32m     21\u001b[0m \u001b[38;5;28;01mfrom\u001b[39;00m \u001b[38;5;21;01m.\u001b[39;00m\u001b[38;5;21;01m.\u001b[39;00m\u001b[38;5;21;01mutils\u001b[39;00m\u001b[38;5;21;01m.\u001b[39;00m\u001b[38;5;21;01mvalidation\u001b[39;00m \u001b[38;5;28;01mimport\u001b[39;00m _check_sample_weight\n",
      "File \u001b[0;32m/opt/anaconda3/envs/mwct06/lib/python3.11/site-packages/sklearn/neighbors/__init__.py:15\u001b[0m\n\u001b[1;32m     13\u001b[0m \u001b[38;5;28;01mfrom\u001b[39;00m \u001b[38;5;21;01m.\u001b[39;00m\u001b[38;5;21;01m_kde\u001b[39;00m \u001b[38;5;28;01mimport\u001b[39;00m KernelDensity\n\u001b[1;32m     14\u001b[0m \u001b[38;5;28;01mfrom\u001b[39;00m \u001b[38;5;21;01m.\u001b[39;00m\u001b[38;5;21;01m_lof\u001b[39;00m \u001b[38;5;28;01mimport\u001b[39;00m LocalOutlierFactor\n\u001b[0;32m---> 15\u001b[0m \u001b[38;5;28;01mfrom\u001b[39;00m \u001b[38;5;21;01m.\u001b[39;00m\u001b[38;5;21;01m_nca\u001b[39;00m \u001b[38;5;28;01mimport\u001b[39;00m NeighborhoodComponentsAnalysis\n\u001b[1;32m     16\u001b[0m \u001b[38;5;28;01mfrom\u001b[39;00m \u001b[38;5;21;01m.\u001b[39;00m\u001b[38;5;21;01m_nearest_centroid\u001b[39;00m \u001b[38;5;28;01mimport\u001b[39;00m NearestCentroid\n\u001b[1;32m     17\u001b[0m \u001b[38;5;28;01mfrom\u001b[39;00m \u001b[38;5;21;01m.\u001b[39;00m\u001b[38;5;21;01m_regression\u001b[39;00m \u001b[38;5;28;01mimport\u001b[39;00m KNeighborsRegressor, RadiusNeighborsRegressor\n",
      "File \u001b[0;32m/opt/anaconda3/envs/mwct06/lib/python3.11/site-packages/sklearn/neighbors/_nca.py:23\u001b[0m\n\u001b[1;32m     15\u001b[0m \u001b[38;5;28;01mfrom\u001b[39;00m \u001b[38;5;21;01mscipy\u001b[39;00m\u001b[38;5;21;01m.\u001b[39;00m\u001b[38;5;21;01moptimize\u001b[39;00m \u001b[38;5;28;01mimport\u001b[39;00m minimize\n\u001b[1;32m     17\u001b[0m \u001b[38;5;28;01mfrom\u001b[39;00m \u001b[38;5;21;01m.\u001b[39;00m\u001b[38;5;21;01m.\u001b[39;00m\u001b[38;5;21;01mbase\u001b[39;00m \u001b[38;5;28;01mimport\u001b[39;00m (\n\u001b[1;32m     18\u001b[0m     BaseEstimator,\n\u001b[1;32m     19\u001b[0m     ClassNamePrefixFeaturesOutMixin,\n\u001b[1;32m     20\u001b[0m     TransformerMixin,\n\u001b[1;32m     21\u001b[0m     _fit_context,\n\u001b[1;32m     22\u001b[0m )\n\u001b[0;32m---> 23\u001b[0m \u001b[38;5;28;01mfrom\u001b[39;00m \u001b[38;5;21;01m.\u001b[39;00m\u001b[38;5;21;01m.\u001b[39;00m\u001b[38;5;21;01mdecomposition\u001b[39;00m \u001b[38;5;28;01mimport\u001b[39;00m PCA\n\u001b[1;32m     24\u001b[0m \u001b[38;5;28;01mfrom\u001b[39;00m \u001b[38;5;21;01m.\u001b[39;00m\u001b[38;5;21;01m.\u001b[39;00m\u001b[38;5;21;01mexceptions\u001b[39;00m \u001b[38;5;28;01mimport\u001b[39;00m ConvergenceWarning\n\u001b[1;32m     25\u001b[0m \u001b[38;5;28;01mfrom\u001b[39;00m \u001b[38;5;21;01m.\u001b[39;00m\u001b[38;5;21;01m.\u001b[39;00m\u001b[38;5;21;01mmetrics\u001b[39;00m \u001b[38;5;28;01mimport\u001b[39;00m pairwise_distances\n",
      "File \u001b[0;32m/opt/anaconda3/envs/mwct06/lib/python3.11/site-packages/sklearn/decomposition/__init__.py:21\u001b[0m\n\u001b[1;32m     19\u001b[0m \u001b[38;5;28;01mfrom\u001b[39;00m \u001b[38;5;21;01m.\u001b[39;00m\u001b[38;5;21;01m_kernel_pca\u001b[39;00m \u001b[38;5;28;01mimport\u001b[39;00m KernelPCA\n\u001b[1;32m     20\u001b[0m \u001b[38;5;28;01mfrom\u001b[39;00m \u001b[38;5;21;01m.\u001b[39;00m\u001b[38;5;21;01m_lda\u001b[39;00m \u001b[38;5;28;01mimport\u001b[39;00m LatentDirichletAllocation\n\u001b[0;32m---> 21\u001b[0m \u001b[38;5;28;01mfrom\u001b[39;00m \u001b[38;5;21;01m.\u001b[39;00m\u001b[38;5;21;01m_nmf\u001b[39;00m \u001b[38;5;28;01mimport\u001b[39;00m (\n\u001b[1;32m     22\u001b[0m     NMF,\n\u001b[1;32m     23\u001b[0m     MiniBatchNMF,\n\u001b[1;32m     24\u001b[0m     non_negative_factorization,\n\u001b[1;32m     25\u001b[0m )\n\u001b[1;32m     26\u001b[0m \u001b[38;5;28;01mfrom\u001b[39;00m \u001b[38;5;21;01m.\u001b[39;00m\u001b[38;5;21;01m_pca\u001b[39;00m \u001b[38;5;28;01mimport\u001b[39;00m PCA\n\u001b[1;32m     27\u001b[0m \u001b[38;5;28;01mfrom\u001b[39;00m \u001b[38;5;21;01m.\u001b[39;00m\u001b[38;5;21;01m_sparse_pca\u001b[39;00m \u001b[38;5;28;01mimport\u001b[39;00m MiniBatchSparsePCA, SparsePCA\n",
      "File \u001b[0;32m/opt/anaconda3/envs/mwct06/lib/python3.11/site-packages/sklearn/decomposition/_nmf.py:18\u001b[0m\n\u001b[1;32m     16\u001b[0m \u001b[38;5;28;01mimport\u001b[39;00m \u001b[38;5;21;01mnumpy\u001b[39;00m \u001b[38;5;28;01mas\u001b[39;00m \u001b[38;5;21;01mnp\u001b[39;00m\n\u001b[1;32m     17\u001b[0m \u001b[38;5;28;01mimport\u001b[39;00m \u001b[38;5;21;01mscipy\u001b[39;00m\u001b[38;5;21;01m.\u001b[39;00m\u001b[38;5;21;01msparse\u001b[39;00m \u001b[38;5;28;01mas\u001b[39;00m \u001b[38;5;21;01msp\u001b[39;00m\n\u001b[0;32m---> 18\u001b[0m \u001b[38;5;28;01mfrom\u001b[39;00m \u001b[38;5;21;01mscipy\u001b[39;00m \u001b[38;5;28;01mimport\u001b[39;00m linalg\n\u001b[1;32m     20\u001b[0m \u001b[38;5;28;01mfrom\u001b[39;00m \u001b[38;5;21;01m.\u001b[39;00m\u001b[38;5;21;01m.\u001b[39;00m\u001b[38;5;21;01m_config\u001b[39;00m \u001b[38;5;28;01mimport\u001b[39;00m config_context\n\u001b[1;32m     21\u001b[0m \u001b[38;5;28;01mfrom\u001b[39;00m \u001b[38;5;21;01m.\u001b[39;00m\u001b[38;5;21;01m.\u001b[39;00m\u001b[38;5;21;01mbase\u001b[39;00m \u001b[38;5;28;01mimport\u001b[39;00m (\n\u001b[1;32m     22\u001b[0m     BaseEstimator,\n\u001b[1;32m     23\u001b[0m     ClassNamePrefixFeaturesOutMixin,\n\u001b[1;32m     24\u001b[0m     TransformerMixin,\n\u001b[1;32m     25\u001b[0m     _fit_context,\n\u001b[1;32m     26\u001b[0m )\n",
      "File \u001b[0;32m<frozen importlib._bootstrap>:1229\u001b[0m, in \u001b[0;36m_handle_fromlist\u001b[0;34m(module, fromlist, import_, recursive)\u001b[0m\n",
      "\u001b[0;31mKeyboardInterrupt\u001b[0m: "
     ]
    }
   ],
   "source": [
    "###############\n",
    "# Some methods and functions to support our analysis\n",
    "# NOTE: this code is not shown in the slides, but you should run it!\n",
    "# Feel free to give a look on how we load the data, extract features and all others\n",
    "# methods we did not describe explicitly in the lecture\n",
    "###############\n",
    "\n",
    "# imports\n",
    "import numpy as np\n",
    "import pandas as pd\n",
    "from typing import Literal\n",
    "from IPython.display import display\n",
    "import matplotlib.pyplot as plt\n",
    "\n",
    "from scipy.signal import butter, lfilter, filtfilt\n",
    "from pandas import Series, DataFrame\n",
    "from numpy import ndarray\n",
    "\n",
    "from plotly import __version__\n",
    "from plotly.offline import (\n",
    "    download_plotlyjs,\n",
    "    init_notebook_mode,\n",
    "    plot,\n",
    "    iplot,\n",
    ")\n",
    "from sklearn.utils._testing import ignore_warnings\n",
    "\n",
    "init_notebook_mode(connected=True)\n",
    "import plotly.offline as offline\n",
    "import plotly.graph_objs as go\n",
    "\n",
    "from neurokit2.eda import eda_peaks\n",
    "from warnings import warn\n",
    "\n",
    "from time import time\n",
    "from sys import getsizeof\n",
    "\n",
    "from json import load as load_json\n",
    "from typing import Any\n",
    "\n",
    "from logging import getLogger\n",
    "from typing import Any\n",
    "from numpy import ndarray, mean, std, gradient, isnan, array\n",
    "from scipy.stats import linregress\n",
    "from neurokit2.eda import eda_peaks\n",
    "\n",
    "\n",
    "# Set notebook mode to work in offline\n",
    "offline.init_notebook_mode(connected=True)\n",
    "\n",
    "\n",
    "def butter_lowpass_filter_filtfilt(\n",
    "    data: Series, cutoff: float, fs: int, order: int\n",
    ") -> ndarray:\n",
    "    \"\"\"Method to create and then apply a digital filter forward and backward to a signal.\n",
    "\n",
    "    Args:\n",
    "        data (ndarray): timeseries to be filtered, e.g. EDA data signal\n",
    "        cutoff (float): cutoff point for the lowpass, e.g. `5`\n",
    "        fs (int): frequency of the singal, e.g. `64`\n",
    "        order (int): order for the filter, e.g. `2`\n",
    "\n",
    "    Returns:\n",
    "        ndarray: returns the data filtered\n",
    "    \"\"\"\n",
    "    b, a = butter_lowpass(cutoff, fs, order=order)\n",
    "    if isinstance(data, DataFrame):\n",
    "        y: ndarray = filtfilt(b=b, a=a, x=data.iloc[:, 0].values)\n",
    "        y = stack([y, data.iloc[:, 1].values], axis=1)\n",
    "    elif isinstance(data, Series):\n",
    "        y: ndarray = filtfilt(b=b, a=a, x=data.values)\n",
    "    else:\n",
    "        raise TypeError(\n",
    "            f\"The method takes as input either pandas Dataframe or Series objects. Recevied {type(data)} instead\"\n",
    "        )\n",
    "    return y\n",
    "\n",
    "\n",
    "def butter_lowpass(\n",
    "    cutoff: float, fs: int, order: int\n",
    ") -> tuple[float, float]:\n",
    "    \"\"\"Figure out the numerator (`b`) and denominator (`a`) coefficients for a linear digital\n",
    "    filter\n",
    "\n",
    "    Args:\n",
    "        cutoff (float): cutoff value\n",
    "        fs (int): frequency of the signal\n",
    "        order (int): order for the Butterworth filter\n",
    "\n",
    "    Returns:\n",
    "        (tuple): numerator and denominator coefficients for the lowpass filter\n",
    "    \"\"\"\n",
    "    # NOTE: Nyquist frequeny is half the sampling frequency\n",
    "    nyq = 0.5 * fs\n",
    "    # NOTE: Normalization of the cutoff signal\n",
    "    normal_cutoff = cutoff / nyq\n",
    "    b, a = butter(order, normal_cutoff, btype=\"low\", analog=False)\n",
    "    return b, a\n",
    "\n",
    "\n",
    "def make_interactive_lineplot(\n",
    "    data: pd.DataFrame,\n",
    "    x: str | Literal[\"index\"] | list[str | Literal[\"index\"]],\n",
    "    y: str | Literal[\"index\"] | list[str | Literal[\"index\"]],\n",
    "    name: str | list[str],\n",
    "    title: str,\n",
    "    xlabel: str = \"\",\n",
    "    ylabel: str = \"\",\n",
    "    **kwargs,\n",
    "):\n",
    "    traces = list()\n",
    "    if (\n",
    "        isinstance(x, list)\n",
    "        and isinstance(y, list)\n",
    "        and isinstance(name, list)\n",
    "    ):\n",
    "        for x_val, y_val, name_val in zip(x, y, name):\n",
    "            trace = go.Scatter(\n",
    "                x=data[x_val] if x_val != \"index\" else data.index,\n",
    "                y=data[y_val] if y_val != \"index\" else data.index,\n",
    "                name=name_val,\n",
    "            )\n",
    "            traces.append(trace)\n",
    "    elif (\n",
    "        isinstance(x, str)\n",
    "        and isinstance(y, str)\n",
    "        and isinstance(name, str)\n",
    "    ):\n",
    "        trace = go.Scatter(\n",
    "            x=data[x] if x != \"index\" else data.index,\n",
    "            y=data[y] if y != \"index\" else data.index,\n",
    "            name=name,\n",
    "        )\n",
    "        traces.append(trace)\n",
    "    else:\n",
    "        raise TypeError(\n",
    "            f\"x, y and name must be either all lists or all strings. Got x: {type(x)}, y: {type(y)}, name: {type(name)}\"\n",
    "        )\n",
    "\n",
    "    default_rangeselector = dict(\n",
    "        buttons=list(\n",
    "            [\n",
    "                dict(\n",
    "                    count=1,\n",
    "                    label=\"1m\",\n",
    "                    step=\"month\",\n",
    "                    stepmode=\"backward\",\n",
    "                ),\n",
    "                dict(\n",
    "                    count=6,\n",
    "                    label=\"6m\",\n",
    "                    step=\"month\",\n",
    "                    stepmode=\"backward\",\n",
    "                ),\n",
    "                dict(step=\"all\"),\n",
    "            ]\n",
    "        )\n",
    "    )\n",
    "\n",
    "    layout = dict(\n",
    "        title=title,\n",
    "        xaxis=dict(\n",
    "            rangeselector=kwargs.get(\n",
    "                \"rangeselector\", default_rangeselector\n",
    "            ),\n",
    "            rangeslider=dict(),\n",
    "            type=kwargs.get(\"xtype\", \"date\"),\n",
    "            title=xlabel,\n",
    "        ),\n",
    "        yaxis=dict(\n",
    "            title=ylabel,\n",
    "        ),\n",
    "    )\n",
    "    fig = dict(data=traces, layout=layout)\n",
    "    indexes = []\n",
    "\n",
    "    offline.iplot(fig, filename=kwargs.get(\"filename\", None))\n",
    "\n",
    "\n",
    "def normalize_signals(x: np.ndarray) -> np.ndarray:\n",
    "    \"\"\"\n",
    "    This method takes as input an array and perform the normalization (min-max) over it.\n",
    "\n",
    "    Args:\n",
    "        x (ndarray): input array\n",
    "\n",
    "    Returns:\n",
    "        (ndarray): array normalized\n",
    "\n",
    "    \"\"\"\n",
    "    max_val: float = np.max(x)\n",
    "    min_val: float = np.min(x)\n",
    "    return (x - min_val) / (max_val - min_val)\n",
    "\n",
    "\n",
    "def calculate_rise_time(\n",
    "    signal: np.ndarray, sampling_rate: int\n",
    ") -> float:\n",
    "    \"\"\"\n",
    "    Calculates the rise time of an EDA physiological signal.\n",
    "\n",
    "    Parameters:\n",
    "        signal (np.ndarray): EDA physiological signal.\n",
    "        sampling_rate (int): Sampling rate of the signal in Hz.\n",
    "\n",
    "    Returns:\n",
    "        float: Rise time in seconds.\n",
    "    \"\"\"\n",
    "    peak_amplitude = np.max(signal)\n",
    "    threshold_10 = 0.1 * peak_amplitude\n",
    "    threshold_90 = 0.9 * peak_amplitude\n",
    "\n",
    "    # Find the indices where the signal crosses the 10% and 90% thresholds\n",
    "    index_10 = np.argmax(signal >= threshold_10)\n",
    "    index_90 = np.argmax(signal >= threshold_90)\n",
    "\n",
    "    # Calculate the rise time in seconds\n",
    "    rise_time = (index_90 - index_10) / sampling_rate\n",
    "\n",
    "    return rise_time\n",
    "\n",
    "\n",
    "def calculate_decay_time(\n",
    "    signal: np.ndarray, sampling_rate: int\n",
    ") -> float:\n",
    "    \"\"\"\n",
    "    Calculates the decay time of an EDA physiological signal.\n",
    "\n",
    "    Parameters:\n",
    "        signal (np.ndarray): EDA physiological signal.\n",
    "        sampling_rate (int): Sampling rate of the signal in Hz.\n",
    "\n",
    "    Returns:\n",
    "        float: Decay time in seconds.\n",
    "    \"\"\"\n",
    "    peak_amplitude = np.max(signal)\n",
    "    threshold_10 = 0.1 * peak_amplitude\n",
    "    threshold_90 = 0.9 * peak_amplitude\n",
    "\n",
    "    # Find the indices where the signal crosses the 10% and 90% thresholds\n",
    "    index_10 = np.argmax(signal >= threshold_10)\n",
    "    index_90 = np.argmax(signal >= threshold_90)\n",
    "\n",
    "    # Calculate the decay time in seconds\n",
    "    decay_time = (index_10 - index_90) / sampling_rate\n",
    "\n",
    "    return decay_time\n",
    "\n",
    "\n",
    "def extract_features(\n",
    "    data: np.ndarray, sampling_rate: int\n",
    ") -> pd.Series:\n",
    "    \"\"\"\n",
    "    This method extracts hand-crafted features for EDA signals.\n",
    "\n",
    "    Args:\n",
    "        data (ndarray): input array of EDA data\n",
    "        sampling_rate (int): sampling rate of the EDA signal\n",
    "\n",
    "    Returns:\n",
    "        (Series): dataframe with the features extracted as indexes\n",
    "\n",
    "    \"\"\"\n",
    "    if not isinstance(data, np.ndarray):\n",
    "        raise TypeError(\n",
    "            f\"Input data must be a numpy array. Got {type(data)} instead\"\n",
    "        )\n",
    "    min_feat: float = np.min(data)\n",
    "    max_feat: float = np.max(data)\n",
    "    mean_feat: float = np.mean(data)\n",
    "    std_feat: float = np.std(data)\n",
    "    rise_time = calculate_rise_time(data, sampling_rate=sampling_rate)\n",
    "    decay_time = calculate_decay_time(\n",
    "        data, sampling_rate=sampling_rate\n",
    "    )\n",
    "    dynamic_range_feat: float = max_feat - min_feat\n",
    "    # NOTE: we have to cast to float otherwise the linear regression might fail\n",
    "    # with the attribute error \"float object has no attribute 'shape'\".\n",
    "    # See https://stackoverflow.com/questions/53200129/attributeerror-float-object-has-no-attribute-shape-when-using-linregress\n",
    "    slope_feat, _, _, _, _ = linregress(\n",
    "        np.asarray(range(len(data)), dtype=float).astype(float),\n",
    "        data.astype(float),\n",
    "    )\n",
    "    absolute_slope_feat: float = abs(slope_feat)\n",
    "    first_derivative_data: ndarray = gradient(data)\n",
    "    first_derivetive_mean_feat: float = mean(first_derivative_data)\n",
    "    first_derivative_std_feat: float = std(first_derivative_data)\n",
    "\n",
    "    try:\n",
    "        eda_peaks_result: dict[str, Any] = eda_peaks(\n",
    "            data,\n",
    "            sampling_rate=sampling_rate,\n",
    "        )\n",
    "    except ValueError as e:\n",
    "        # NOTE: sometimes, when no peaks are detected, as ValueError is thrown by the\n",
    "        # neurokit2 method. We solve this in a very simplistic way\n",
    "        warn(f\"Could not extract EDA peaks. Reason: {e}\")\n",
    "        eda_peaks_result: tuple[None, dict[str, Any]] = (\n",
    "            None,\n",
    "            dict(SCR_Peaks=[], SCR_Amplitude=[0]),\n",
    "        )\n",
    "    number_of_peaks_feat: int = len(eda_peaks_result[1][\"SCR_Peaks\"])\n",
    "    return pd.Series(\n",
    "        [\n",
    "            min_feat,\n",
    "            max_feat,\n",
    "            mean_feat,\n",
    "            std_feat,\n",
    "            number_of_peaks_feat,\n",
    "            rise_time,\n",
    "            decay_time,\n",
    "            dynamic_range_feat,\n",
    "            slope_feat,\n",
    "            absolute_slope_feat,\n",
    "            first_derivetive_mean_feat,\n",
    "            first_derivative_std_feat,\n",
    "        ],\n",
    "        index=[\n",
    "            \"Min\",\n",
    "            \"Max\",\n",
    "            \"Mean\",\n",
    "            \"Std\",\n",
    "            \"Num Peaks\",\n",
    "            \"Rise Time\",\n",
    "            \"Decay Time\",\n",
    "            \"Dynamic Range\",\n",
    "            \"Slope\",\n",
    "            \"Absolute Slope\",\n",
    "            \"First Derivative Mean\",\n",
    "            \"First Derivative Std\",\n",
    "        ],\n",
    "    )"
   ]
  },
  {
   "cell_type": "markdown",
   "id": "98a39d8e",
   "metadata": {
    "editable": true,
    "slideshow": {
     "slide_type": "subslide"
    },
    "tags": []
   },
   "source": [
    "### Load the EDA data.\n",
    "\n",
    "We are going to load the data as in the previous tutorial. \n",
    "\n",
    "In this tutorial, I have already merged the engagement information in the table."
   ]
  },
  {
   "cell_type": "code",
   "execution_count": 2,
   "id": "6aa3dbe9-6c1a-471b-a020-b296363a4a62",
   "metadata": {
    "editable": true,
    "slideshow": {
     "slide_type": "fragment"
    },
    "tags": []
   },
   "outputs": [
    {
     "name": "stdout",
     "output_type": "stream",
     "text": [
      "Loading time 0.17s\n",
      "EDA data size: 62.78MB\n"
     ]
    }
   ],
   "source": [
    "start = time()\n",
    "eda_data: pd.DataFrame = pd.read_csv(\n",
    "    \"./assignment_data.csv\", index_col=0\n",
    ")\n",
    "print(\"Loading time %.2fs\" % (time() - start))\n",
    "print(f\"EDA data size: %.2fMB\" % (getsizeof(eda_data) / 1e6))\n",
    "# convert the timestamp column to the correct class\n",
    "eda_data[\"timestamp\"] = pd.to_datetime(\n",
    "    eda_data[\"timestamp\"], format=\"mixed\"\n",
    ")"
   ]
  },
  {
   "cell_type": "code",
   "execution_count": 3,
   "id": "cfa84657-0278-40d8-863c-485ad93fb2fa",
   "metadata": {
    "editable": true,
    "slideshow": {
     "slide_type": "subslide"
    },
    "tags": []
   },
   "outputs": [
    {
     "data": {
      "text/html": [
       "<div>\n",
       "<style scoped>\n",
       "    .dataframe tbody tr th:only-of-type {\n",
       "        vertical-align: middle;\n",
       "    }\n",
       "\n",
       "    .dataframe tbody tr th {\n",
       "        vertical-align: top;\n",
       "    }\n",
       "\n",
       "    .dataframe thead th {\n",
       "        text-align: right;\n",
       "    }\n",
       "</style>\n",
       "<table border=\"1\" class=\"dataframe\">\n",
       "  <thead>\n",
       "    <tr style=\"text-align: right;\">\n",
       "      <th></th>\n",
       "      <th>username</th>\n",
       "      <th>session</th>\n",
       "      <th>timestamp</th>\n",
       "      <th>EDA</th>\n",
       "      <th>engagement</th>\n",
       "    </tr>\n",
       "  </thead>\n",
       "  <tbody>\n",
       "    <tr>\n",
       "      <th>61039</th>\n",
       "      <td>S003</td>\n",
       "      <td>27Feb</td>\n",
       "      <td>2017-02-27 08:32:00.250000+01:00</td>\n",
       "      <td>2.869309</td>\n",
       "      <td>0.0</td>\n",
       "    </tr>\n",
       "    <tr>\n",
       "      <th>61040</th>\n",
       "      <td>S003</td>\n",
       "      <td>27Feb</td>\n",
       "      <td>2017-02-27 08:32:00.500000+01:00</td>\n",
       "      <td>2.866625</td>\n",
       "      <td>0.0</td>\n",
       "    </tr>\n",
       "    <tr>\n",
       "      <th>61041</th>\n",
       "      <td>S003</td>\n",
       "      <td>27Feb</td>\n",
       "      <td>2017-02-27 08:32:00.750000+01:00</td>\n",
       "      <td>2.862869</td>\n",
       "      <td>0.0</td>\n",
       "    </tr>\n",
       "    <tr>\n",
       "      <th>61042</th>\n",
       "      <td>S003</td>\n",
       "      <td>27Feb</td>\n",
       "      <td>2017-02-27 08:32:01+01:00</td>\n",
       "      <td>2.859894</td>\n",
       "      <td>0.0</td>\n",
       "    </tr>\n",
       "    <tr>\n",
       "      <th>61043</th>\n",
       "      <td>S003</td>\n",
       "      <td>27Feb</td>\n",
       "      <td>2017-02-27 08:32:01.250000+01:00</td>\n",
       "      <td>2.859772</td>\n",
       "      <td>0.0</td>\n",
       "    </tr>\n",
       "  </tbody>\n",
       "</table>\n",
       "</div>"
      ],
      "text/plain": [
       "      username session                        timestamp       EDA  engagement\n",
       "61039     S003   27Feb 2017-02-27 08:32:00.250000+01:00  2.869309         0.0\n",
       "61040     S003   27Feb 2017-02-27 08:32:00.500000+01:00  2.866625         0.0\n",
       "61041     S003   27Feb 2017-02-27 08:32:00.750000+01:00  2.862869         0.0\n",
       "61042     S003   27Feb        2017-02-27 08:32:01+01:00  2.859894         0.0\n",
       "61043     S003   27Feb 2017-02-27 08:32:01.250000+01:00  2.859772         0.0"
      ]
     },
     "metadata": {},
     "output_type": "display_data"
    }
   ],
   "source": [
    "display(eda_data.head())"
   ]
  },
  {
   "cell_type": "markdown",
   "id": "5a0e8fc3-6e40-4e61-b557-94700172d088",
   "metadata": {
    "editable": true,
    "slideshow": {
     "slide_type": "fragment"
    },
    "tags": []
   },
   "source": [
    "We now have a column called `session`. For each user, data was collected for multiple days."
   ]
  },
  {
   "cell_type": "markdown",
   "id": "f9bc0614-a6f4-4f54-b7c1-f8620b35eedb",
   "metadata": {
    "editable": true,
    "slideshow": {
     "slide_type": "subslide"
    },
    "tags": []
   },
   "source": [
    "### Pre-processing"
   ]
  },
  {
   "cell_type": "markdown",
   "id": "07874450-8866-47e5-b014-49c2a0169a86",
   "metadata": {
    "editable": true,
    "slideshow": {
     "slide_type": "fragment"
    },
    "tags": []
   },
   "source": [
    "#### 1. Filtering\n",
    "#### 2. Normalization\n",
    "#### 3. Segmentation\n",
    "#### 4. Feature extraction"
   ]
  },
  {
   "cell_type": "markdown",
   "id": "43f6e49f-91cc-4d79-a9d8-729ef9f1fa19",
   "metadata": {
    "editable": true,
    "slideshow": {
     "slide_type": "subslide"
    },
    "tags": []
   },
   "source": [
    "### 1. Filtering"
   ]
  },
  {
   "cell_type": "markdown",
   "id": "875fdb60-48d8-48f2-9593-803a84ce8bef",
   "metadata": {
    "editable": true,
    "slideshow": {
     "slide_type": "fragment"
    },
    "tags": []
   },
   "source": [
    "Like in the previous tutorial, we will fitler using a Butterworth filter of the 1st order, with a cutoff frequency of 0.4Hz."
   ]
  },
  {
   "cell_type": "markdown",
   "id": "f02d0570-561a-4af4-9d0a-bfa65e8fc72a",
   "metadata": {
    "editable": true,
    "slideshow": {
     "slide_type": "fragment"
    },
    "tags": []
   },
   "source": [
    "We are going to apply the filtering on each user and session independently. We're going to use the `groubpy` sintax from `pandas`."
   ]
  },
  {
   "cell_type": "code",
   "execution_count": 4,
   "id": "fdc7f1a1-faff-4b35-abc3-5c6ec5ea671f",
   "metadata": {
    "editable": true,
    "slideshow": {
     "slide_type": "fragment"
    },
    "tags": []
   },
   "outputs": [
    {
     "name": "stderr",
     "output_type": "stream",
     "text": [
      "/var/folders/2_/dt_kc_x92v9gft6z9yp0xvg80000gn/T/ipykernel_30847/374788084.py:5: DeprecationWarning:\n",
      "\n",
      "DataFrameGroupBy.apply operated on the grouping columns. This behavior is deprecated, and in a future version of pandas the grouping columns will be excluded from the operation. Either pass `include_groups=False` to exclude the groupings or explicitly select the grouping columns after groupby to silence this warning.\n",
      "\n"
     ]
    }
   ],
   "source": [
    "import numpy as np\n",
    "\n",
    "eda_data[\"filt-EDA\"] = (\n",
    "    eda_data.groupby([\"username\", \"session\"], group_keys=False)\n",
    "    .apply(\n",
    "        lambda x: butter_lowpass_filter_filtfilt(\n",
    "            data=x[\"EDA\"], fs=4, cutoff=0.4, order=1\n",
    "        )\n",
    "    )\n",
    "    .explode()\n",
    "    .values\n",
    ")"
   ]
  },
  {
   "cell_type": "code",
   "execution_count": 5,
   "id": "855e935c-5e1b-4b33-b303-c7873502f925",
   "metadata": {
    "editable": true,
    "slideshow": {
     "slide_type": "subslide"
    },
    "tags": []
   },
   "outputs": [
    {
     "data": {
      "text/html": [
       "<div>\n",
       "<style scoped>\n",
       "    .dataframe tbody tr th:only-of-type {\n",
       "        vertical-align: middle;\n",
       "    }\n",
       "\n",
       "    .dataframe tbody tr th {\n",
       "        vertical-align: top;\n",
       "    }\n",
       "\n",
       "    .dataframe thead th {\n",
       "        text-align: right;\n",
       "    }\n",
       "</style>\n",
       "<table border=\"1\" class=\"dataframe\">\n",
       "  <thead>\n",
       "    <tr style=\"text-align: right;\">\n",
       "      <th></th>\n",
       "      <th>username</th>\n",
       "      <th>session</th>\n",
       "      <th>timestamp</th>\n",
       "      <th>EDA</th>\n",
       "      <th>engagement</th>\n",
       "      <th>filt-EDA</th>\n",
       "    </tr>\n",
       "  </thead>\n",
       "  <tbody>\n",
       "    <tr>\n",
       "      <th>61039</th>\n",
       "      <td>S003</td>\n",
       "      <td>27Feb</td>\n",
       "      <td>2017-02-27 08:32:00.250000+01:00</td>\n",
       "      <td>2.869309</td>\n",
       "      <td>0.0</td>\n",
       "      <td>2.86933</td>\n",
       "    </tr>\n",
       "    <tr>\n",
       "      <th>61040</th>\n",
       "      <td>S003</td>\n",
       "      <td>27Feb</td>\n",
       "      <td>2017-02-27 08:32:00.500000+01:00</td>\n",
       "      <td>2.866625</td>\n",
       "      <td>0.0</td>\n",
       "      <td>2.866828</td>\n",
       "    </tr>\n",
       "    <tr>\n",
       "      <th>61041</th>\n",
       "      <td>S003</td>\n",
       "      <td>27Feb</td>\n",
       "      <td>2017-02-27 08:32:00.750000+01:00</td>\n",
       "      <td>2.862869</td>\n",
       "      <td>0.0</td>\n",
       "      <td>2.864549</td>\n",
       "    </tr>\n",
       "    <tr>\n",
       "      <th>61042</th>\n",
       "      <td>S003</td>\n",
       "      <td>27Feb</td>\n",
       "      <td>2017-02-27 08:32:01+01:00</td>\n",
       "      <td>2.859894</td>\n",
       "      <td>0.0</td>\n",
       "      <td>2.86297</td>\n",
       "    </tr>\n",
       "    <tr>\n",
       "      <th>61043</th>\n",
       "      <td>S003</td>\n",
       "      <td>27Feb</td>\n",
       "      <td>2017-02-27 08:32:01.250000+01:00</td>\n",
       "      <td>2.859772</td>\n",
       "      <td>0.0</td>\n",
       "      <td>2.862508</td>\n",
       "    </tr>\n",
       "  </tbody>\n",
       "</table>\n",
       "</div>"
      ],
      "text/plain": [
       "      username session                        timestamp       EDA  engagement  \\\n",
       "61039     S003   27Feb 2017-02-27 08:32:00.250000+01:00  2.869309         0.0   \n",
       "61040     S003   27Feb 2017-02-27 08:32:00.500000+01:00  2.866625         0.0   \n",
       "61041     S003   27Feb 2017-02-27 08:32:00.750000+01:00  2.862869         0.0   \n",
       "61042     S003   27Feb        2017-02-27 08:32:01+01:00  2.859894         0.0   \n",
       "61043     S003   27Feb 2017-02-27 08:32:01.250000+01:00  2.859772         0.0   \n",
       "\n",
       "       filt-EDA  \n",
       "61039   2.86933  \n",
       "61040  2.866828  \n",
       "61041  2.864549  \n",
       "61042   2.86297  \n",
       "61043  2.862508  "
      ]
     },
     "metadata": {},
     "output_type": "display_data"
    }
   ],
   "source": [
    "display(eda_data.head())"
   ]
  },
  {
   "cell_type": "markdown",
   "id": "ac5586f1-c9fd-45be-8c3a-298e37dbfd8d",
   "metadata": {
    "editable": true,
    "slideshow": {
     "slide_type": "subslide"
    },
    "tags": []
   },
   "source": [
    "### 2. Normalization"
   ]
  },
  {
   "cell_type": "code",
   "execution_count": 6,
   "id": "67c807c9-c7ea-441a-b89d-ecd99ccbdf8f",
   "metadata": {
    "editable": true,
    "slideshow": {
     "slide_type": "fragment"
    },
    "tags": []
   },
   "outputs": [
    {
     "name": "stderr",
     "output_type": "stream",
     "text": [
      "/var/folders/2_/dt_kc_x92v9gft6z9yp0xvg80000gn/T/ipykernel_30847/1781790114.py:3: DeprecationWarning:\n",
      "\n",
      "DataFrameGroupBy.apply operated on the grouping columns. This behavior is deprecated, and in a future version of pandas the grouping columns will be excluded from the operation. Either pass `include_groups=False` to exclude the groupings or explicitly select the grouping columns after groupby to silence this warning.\n",
      "\n"
     ]
    }
   ],
   "source": [
    "eda_data[\"norm-EDA\"] = (\n",
    "    eda_data.groupby([\"username\", \"session\"])\n",
    "    .apply(lambda x: normalize_signals(x[\"filt-EDA\"]))\n",
    "    .explode()\n",
    "    .values\n",
    ")"
   ]
  },
  {
   "cell_type": "code",
   "execution_count": 7,
   "id": "cc682bae-1b08-4f5c-8ec2-3f7f29d141c5",
   "metadata": {
    "editable": true,
    "slideshow": {
     "slide_type": "subslide"
    },
    "tags": []
   },
   "outputs": [
    {
     "data": {
      "text/html": [
       "<div>\n",
       "<style scoped>\n",
       "    .dataframe tbody tr th:only-of-type {\n",
       "        vertical-align: middle;\n",
       "    }\n",
       "\n",
       "    .dataframe tbody tr th {\n",
       "        vertical-align: top;\n",
       "    }\n",
       "\n",
       "    .dataframe thead th {\n",
       "        text-align: right;\n",
       "    }\n",
       "</style>\n",
       "<table border=\"1\" class=\"dataframe\">\n",
       "  <thead>\n",
       "    <tr style=\"text-align: right;\">\n",
       "      <th></th>\n",
       "      <th>username</th>\n",
       "      <th>session</th>\n",
       "      <th>timestamp</th>\n",
       "      <th>EDA</th>\n",
       "      <th>engagement</th>\n",
       "      <th>filt-EDA</th>\n",
       "      <th>norm-EDA</th>\n",
       "    </tr>\n",
       "  </thead>\n",
       "  <tbody>\n",
       "    <tr>\n",
       "      <th>61039</th>\n",
       "      <td>S003</td>\n",
       "      <td>27Feb</td>\n",
       "      <td>2017-02-27 08:32:00.250000+01:00</td>\n",
       "      <td>2.869309</td>\n",
       "      <td>0.0</td>\n",
       "      <td>2.86933</td>\n",
       "      <td>0.989116</td>\n",
       "    </tr>\n",
       "    <tr>\n",
       "      <th>61040</th>\n",
       "      <td>S003</td>\n",
       "      <td>27Feb</td>\n",
       "      <td>2017-02-27 08:32:00.500000+01:00</td>\n",
       "      <td>2.866625</td>\n",
       "      <td>0.0</td>\n",
       "      <td>2.866828</td>\n",
       "      <td>0.988253</td>\n",
       "    </tr>\n",
       "    <tr>\n",
       "      <th>61041</th>\n",
       "      <td>S003</td>\n",
       "      <td>27Feb</td>\n",
       "      <td>2017-02-27 08:32:00.750000+01:00</td>\n",
       "      <td>2.862869</td>\n",
       "      <td>0.0</td>\n",
       "      <td>2.864549</td>\n",
       "      <td>0.987467</td>\n",
       "    </tr>\n",
       "    <tr>\n",
       "      <th>61042</th>\n",
       "      <td>S003</td>\n",
       "      <td>27Feb</td>\n",
       "      <td>2017-02-27 08:32:01+01:00</td>\n",
       "      <td>2.859894</td>\n",
       "      <td>0.0</td>\n",
       "      <td>2.86297</td>\n",
       "      <td>0.986923</td>\n",
       "    </tr>\n",
       "    <tr>\n",
       "      <th>61043</th>\n",
       "      <td>S003</td>\n",
       "      <td>27Feb</td>\n",
       "      <td>2017-02-27 08:32:01.250000+01:00</td>\n",
       "      <td>2.859772</td>\n",
       "      <td>0.0</td>\n",
       "      <td>2.862508</td>\n",
       "      <td>0.986763</td>\n",
       "    </tr>\n",
       "  </tbody>\n",
       "</table>\n",
       "</div>"
      ],
      "text/plain": [
       "      username session                        timestamp       EDA  engagement  \\\n",
       "61039     S003   27Feb 2017-02-27 08:32:00.250000+01:00  2.869309         0.0   \n",
       "61040     S003   27Feb 2017-02-27 08:32:00.500000+01:00  2.866625         0.0   \n",
       "61041     S003   27Feb 2017-02-27 08:32:00.750000+01:00  2.862869         0.0   \n",
       "61042     S003   27Feb        2017-02-27 08:32:01+01:00  2.859894         0.0   \n",
       "61043     S003   27Feb 2017-02-27 08:32:01.250000+01:00  2.859772         0.0   \n",
       "\n",
       "       filt-EDA  norm-EDA  \n",
       "61039   2.86933  0.989116  \n",
       "61040  2.866828  0.988253  \n",
       "61041  2.864549  0.987467  \n",
       "61042   2.86297  0.986923  \n",
       "61043  2.862508  0.986763  "
      ]
     },
     "metadata": {},
     "output_type": "display_data"
    }
   ],
   "source": [
    "display(eda_data.head())"
   ]
  },
  {
   "cell_type": "markdown",
   "id": "c3c60da5-f81b-4fa8-9a07-32bd16073833",
   "metadata": {
    "editable": true,
    "slideshow": {
     "slide_type": "subslide"
    },
    "tags": []
   },
   "source": [
    "### 3. Segmentation & Feature Extraction"
   ]
  },
  {
   "cell_type": "markdown",
   "id": "6e735389",
   "metadata": {
    "editable": true,
    "slideshow": {
     "slide_type": "fragment"
    },
    "tags": []
   },
   "source": [
    "We now need to perform segmenation. We shall do similarly to the first tutorial: first identify the starts and ends of each segment, and then segment based on them."
   ]
  },
  {
   "cell_type": "code",
   "execution_count": 8,
   "id": "7972aafd",
   "metadata": {
    "editable": true,
    "slideshow": {
     "slide_type": "fragment"
    },
    "tags": []
   },
   "outputs": [],
   "source": [
    "window_size_in_sec: int = 10\n",
    "spl_rate: int = 4\n",
    "window_size_in_sampling_rate: int = window_size_in_sec * spl_rate"
   ]
  },
  {
   "cell_type": "code",
   "execution_count": 9,
   "id": "de38fc24-dc15-41ca-88b9-56cd498043b2",
   "metadata": {
    "editable": true,
    "slideshow": {
     "slide_type": "subslide"
    },
    "tags": []
   },
   "outputs": [],
   "source": [
    "def create_segments(\n",
    "    x: pd.DataFrame, window_size_in_sampling_rate: int\n",
    ") -> list[pd.DataFrame]:\n",
    "    starts: pd.Series = x[::window_size_in_sampling_rate][\"timestamp\"]\n",
    "    ends: pd.Series = (\n",
    "        starts\n",
    "        + pd.Timedelta(f\"{window_size_in_sec}s\")\n",
    "        - pd.Timedelta(f\"{1/spl_rate}s\")\n",
    "    )\n",
    "\n",
    "    x = x.set_index(\"timestamp\")\n",
    "    segments: list[pd.DataFrame] = [\n",
    "        x.loc[start:end] for start, end in zip(starts, ends)\n",
    "    ]\n",
    "    return segments"
   ]
  },
  {
   "cell_type": "code",
   "execution_count": 10,
   "id": "56eda312",
   "metadata": {
    "editable": true,
    "slideshow": {
     "slide_type": "subslide"
    },
    "tags": []
   },
   "outputs": [],
   "source": [
    "@ignore_warnings(category=UserWarning)\n",
    "@ignore_warnings(category=RuntimeWarning)\n",
    "def segment_and_extract(\n",
    "    x: pd.DataFrame, window_size_in_sampling_rate: int\n",
    ") -> pd.DataFrame:\n",
    "    segments = create_segments(x, window_size_in_sampling_rate)\n",
    "\n",
    "    extracted_features: list[tuple[pd.Series, int]] = [\n",
    "        (\n",
    "            extract_features(\n",
    "                data=segment[\"norm-EDA\"].values.astype(float),\n",
    "                sampling_rate=spl_rate,\n",
    "            ),\n",
    "            segment[\"engagement\"].mean(),\n",
    "        )\n",
    "        for segment in segments\n",
    "        if segment[\"engagement\"].mean() == 0\n",
    "        or segment[\"engagement\"].mean() == 1\n",
    "    ]\n",
    "\n",
    "    engagement_values = [eng for _, eng in extracted_features]\n",
    "    extracted_features = [feat for feat, _ in extracted_features]\n",
    "    extracted_features = pd.concat(extracted_features, axis=1).T\n",
    "    extracted_features[\"engagement\"] = engagement_values\n",
    "    return extracted_features"
   ]
  },
  {
   "cell_type": "code",
   "execution_count": 11,
   "id": "aa72f901",
   "metadata": {},
   "outputs": [],
   "source": [
    "from tqdm.auto import tqdm\n",
    "tqdm.pandas()"
   ]
  },
  {
   "cell_type": "code",
   "execution_count": 12,
   "id": "2987a072",
   "metadata": {
    "editable": true,
    "slideshow": {
     "slide_type": "subslide"
    },
    "tags": []
   },
   "outputs": [
    {
     "data": {
      "application/vnd.jupyter.widget-view+json": {
       "model_id": "19492061e8894afca0d240f095fed204",
       "version_major": 2,
       "version_minor": 0
      },
      "text/plain": [
       "  0%|          | 0/13 [00:00<?, ?it/s]"
      ]
     },
     "metadata": {},
     "output_type": "display_data"
    }
   ],
   "source": [
    "# NOTE: this can take around 10/20 seconds to run\n",
    "# NOTE: .progress_apply() works only because we run tqdm.pandas(). Otherwise, you need to use\n",
    "# the traditional .apply() method\n",
    "eda_features = eda_data.groupby([\"username\", \"session\"]).progress_apply(\n",
    "    lambda x: segment_and_extract(x, window_size_in_sampling_rate)\n",
    ")"
   ]
  },
  {
   "cell_type": "markdown",
   "id": "0c7eabd0",
   "metadata": {
    "editable": true,
    "slideshow": {
     "slide_type": "subslide"
    },
    "tags": []
   },
   "source": [
    "We extracted more features!"
   ]
  },
  {
   "cell_type": "code",
   "execution_count": 13,
   "id": "d1ff93a4",
   "metadata": {
    "editable": true,
    "slideshow": {
     "slide_type": "fragment"
    },
    "tags": []
   },
   "outputs": [
    {
     "data": {
      "text/html": [
       "<div>\n",
       "<style scoped>\n",
       "    .dataframe tbody tr th:only-of-type {\n",
       "        vertical-align: middle;\n",
       "    }\n",
       "\n",
       "    .dataframe tbody tr th {\n",
       "        vertical-align: top;\n",
       "    }\n",
       "\n",
       "    .dataframe thead th {\n",
       "        text-align: right;\n",
       "    }\n",
       "</style>\n",
       "<table border=\"1\" class=\"dataframe\">\n",
       "  <thead>\n",
       "    <tr style=\"text-align: right;\">\n",
       "      <th></th>\n",
       "      <th></th>\n",
       "      <th></th>\n",
       "      <th>Min</th>\n",
       "      <th>Max</th>\n",
       "      <th>Mean</th>\n",
       "      <th>Std</th>\n",
       "      <th>Num Peaks</th>\n",
       "      <th>Rise Time</th>\n",
       "      <th>Decay Time</th>\n",
       "      <th>Dynamic Range</th>\n",
       "      <th>Slope</th>\n",
       "      <th>Absolute Slope</th>\n",
       "      <th>First Derivative Mean</th>\n",
       "      <th>First Derivative Std</th>\n",
       "      <th>engagement</th>\n",
       "    </tr>\n",
       "    <tr>\n",
       "      <th>username</th>\n",
       "      <th>session</th>\n",
       "      <th></th>\n",
       "      <th></th>\n",
       "      <th></th>\n",
       "      <th></th>\n",
       "      <th></th>\n",
       "      <th></th>\n",
       "      <th></th>\n",
       "      <th></th>\n",
       "      <th></th>\n",
       "      <th></th>\n",
       "      <th></th>\n",
       "      <th></th>\n",
       "      <th></th>\n",
       "      <th></th>\n",
       "    </tr>\n",
       "  </thead>\n",
       "  <tbody>\n",
       "    <tr>\n",
       "      <th rowspan=\"5\" valign=\"top\">S003</th>\n",
       "      <th rowspan=\"5\" valign=\"top\">27Feb</th>\n",
       "      <th>0</th>\n",
       "      <td>0.984190</td>\n",
       "      <td>1.000000</td>\n",
       "      <td>0.991249</td>\n",
       "      <td>0.004542</td>\n",
       "      <td>1.0</td>\n",
       "      <td>0.0</td>\n",
       "      <td>0.0</td>\n",
       "      <td>0.015810</td>\n",
       "      <td>-0.000042</td>\n",
       "      <td>0.000042</td>\n",
       "      <td>-0.000138</td>\n",
       "      <td>0.000870</td>\n",
       "      <td>0.0</td>\n",
       "    </tr>\n",
       "    <tr>\n",
       "      <th>1</th>\n",
       "      <td>0.941819</td>\n",
       "      <td>0.985279</td>\n",
       "      <td>0.962516</td>\n",
       "      <td>0.018179</td>\n",
       "      <td>2.0</td>\n",
       "      <td>0.0</td>\n",
       "      <td>0.0</td>\n",
       "      <td>0.043459</td>\n",
       "      <td>-0.001422</td>\n",
       "      <td>0.001422</td>\n",
       "      <td>-0.000758</td>\n",
       "      <td>0.001922</td>\n",
       "      <td>0.0</td>\n",
       "    </tr>\n",
       "    <tr>\n",
       "      <th>2</th>\n",
       "      <td>0.949165</td>\n",
       "      <td>0.973538</td>\n",
       "      <td>0.959929</td>\n",
       "      <td>0.007300</td>\n",
       "      <td>1.0</td>\n",
       "      <td>0.0</td>\n",
       "      <td>0.0</td>\n",
       "      <td>0.024372</td>\n",
       "      <td>-0.000412</td>\n",
       "      <td>0.000412</td>\n",
       "      <td>0.000069</td>\n",
       "      <td>0.001586</td>\n",
       "      <td>0.0</td>\n",
       "    </tr>\n",
       "    <tr>\n",
       "      <th>3</th>\n",
       "      <td>0.896443</td>\n",
       "      <td>0.956325</td>\n",
       "      <td>0.926374</td>\n",
       "      <td>0.021163</td>\n",
       "      <td>1.0</td>\n",
       "      <td>0.0</td>\n",
       "      <td>0.0</td>\n",
       "      <td>0.059882</td>\n",
       "      <td>-0.001802</td>\n",
       "      <td>0.001802</td>\n",
       "      <td>-0.001516</td>\n",
       "      <td>0.001081</td>\n",
       "      <td>0.0</td>\n",
       "    </tr>\n",
       "    <tr>\n",
       "      <th>4</th>\n",
       "      <td>0.882804</td>\n",
       "      <td>0.898810</td>\n",
       "      <td>0.891899</td>\n",
       "      <td>0.005909</td>\n",
       "      <td>2.0</td>\n",
       "      <td>0.0</td>\n",
       "      <td>0.0</td>\n",
       "      <td>0.016005</td>\n",
       "      <td>-0.000420</td>\n",
       "      <td>0.000420</td>\n",
       "      <td>-0.000216</td>\n",
       "      <td>0.000899</td>\n",
       "      <td>0.0</td>\n",
       "    </tr>\n",
       "  </tbody>\n",
       "</table>\n",
       "</div>"
      ],
      "text/plain": [
       "                         Min       Max      Mean       Std  Num Peaks  \\\n",
       "username session                                                        \n",
       "S003     27Feb   0  0.984190  1.000000  0.991249  0.004542        1.0   \n",
       "                 1  0.941819  0.985279  0.962516  0.018179        2.0   \n",
       "                 2  0.949165  0.973538  0.959929  0.007300        1.0   \n",
       "                 3  0.896443  0.956325  0.926374  0.021163        1.0   \n",
       "                 4  0.882804  0.898810  0.891899  0.005909        2.0   \n",
       "\n",
       "                    Rise Time  Decay Time  Dynamic Range     Slope  \\\n",
       "username session                                                     \n",
       "S003     27Feb   0        0.0         0.0       0.015810 -0.000042   \n",
       "                 1        0.0         0.0       0.043459 -0.001422   \n",
       "                 2        0.0         0.0       0.024372 -0.000412   \n",
       "                 3        0.0         0.0       0.059882 -0.001802   \n",
       "                 4        0.0         0.0       0.016005 -0.000420   \n",
       "\n",
       "                    Absolute Slope  First Derivative Mean  \\\n",
       "username session                                            \n",
       "S003     27Feb   0        0.000042              -0.000138   \n",
       "                 1        0.001422              -0.000758   \n",
       "                 2        0.000412               0.000069   \n",
       "                 3        0.001802              -0.001516   \n",
       "                 4        0.000420              -0.000216   \n",
       "\n",
       "                    First Derivative Std  engagement  \n",
       "username session                                      \n",
       "S003     27Feb   0              0.000870         0.0  \n",
       "                 1              0.001922         0.0  \n",
       "                 2              0.001586         0.0  \n",
       "                 3              0.001081         0.0  \n",
       "                 4              0.000899         0.0  "
      ]
     },
     "execution_count": 13,
     "metadata": {},
     "output_type": "execute_result"
    }
   ],
   "source": [
    "eda_features.head() "
   ]
  },
  {
   "cell_type": "markdown",
   "id": "4ebecf4b",
   "metadata": {
    "editable": true,
    "slideshow": {
     "slide_type": "subslide"
    },
    "tags": []
   },
   "source": [
    "- Rise time: the amount of seconds the signal takes to rise from 10% of the max value to 90% of the max value, in each window. It is the measure of the ability of the signal to respond to fast inputs."
   ]
  },
  {
   "cell_type": "markdown",
   "id": "6a1dee88",
   "metadata": {
    "editable": true,
    "slideshow": {
     "slide_type": "fragment"
    },
    "tags": []
   },
   "source": [
    "- Decay time: opposite of rise time."
   ]
  },
  {
   "cell_type": "markdown",
   "id": "19b31d18",
   "metadata": {
    "editable": true,
    "slideshow": {
     "slide_type": "fragment"
    },
    "tags": []
   },
   "source": [
    "- Dynamic Range: max - min."
   ]
  },
  {
   "cell_type": "markdown",
   "id": "d2285711",
   "metadata": {
    "editable": true,
    "slideshow": {
     "slide_type": "fragment"
    },
    "tags": []
   },
   "source": [
    "- Slope: this is the slope of a line that fits the data."
   ]
  },
  {
   "cell_type": "markdown",
   "id": "d62617d5",
   "metadata": {
    "editable": true,
    "slideshow": {
     "slide_type": "fragment"
    },
    "tags": []
   },
   "source": [
    "- Absolute slope: absolute value of the slope."
   ]
  },
  {
   "cell_type": "markdown",
   "id": "cc1b9391",
   "metadata": {
    "editable": true,
    "slideshow": {
     "slide_type": "fragment"
    },
    "tags": []
   },
   "source": [
    "- First derivative mean: average of the first derivative"
   ]
  },
  {
   "cell_type": "markdown",
   "id": "c35c7e6a",
   "metadata": {
    "editable": true,
    "slideshow": {
     "slide_type": "fragment"
    },
    "tags": []
   },
   "source": [
    "- First derivative std: standard deviation of the first derivative"
   ]
  },
  {
   "cell_type": "markdown",
   "id": "3208e6de",
   "metadata": {
    "editable": true,
    "slideshow": {
     "slide_type": "fragment"
    },
    "tags": []
   },
   "source": [
    "We now have a few more features, which can be useful to predict engagement."
   ]
  },
  {
   "cell_type": "markdown",
   "id": "831dbb47",
   "metadata": {
    "editable": true,
    "slideshow": {
     "slide_type": "subslide"
    },
    "tags": []
   },
   "source": [
    "# Statistical Analysis"
   ]
  },
  {
   "cell_type": "markdown",
   "id": "d7b67646",
   "metadata": {
    "editable": true,
    "slideshow": {
     "slide_type": "fragment"
    },
    "tags": []
   },
   "source": [
    "In the previous tutorials we noticed how there were differences in the distributions of features depending on the engagement level."
   ]
  },
  {
   "cell_type": "code",
   "execution_count": 14,
   "id": "cc5f8063",
   "metadata": {
    "editable": true,
    "slideshow": {
     "slide_type": "subslide"
    },
    "tags": []
   },
   "outputs": [
    {
     "data": {
      "image/png": "[encoded data removed]",
      "text/plain": [
       "<Figure size 1000x300 with 2 Axes>"
      ]
     },
     "metadata": {},
     "output_type": "display_data"
    }
   ],
   "source": [
    "import seaborn as sns\n",
    "\n",
    "fig, axs = plt.subplots(1, 2, figsize=(10, 3))\n",
    "sns.histplot(\n",
    "    ax=axs[0],\n",
    "    data=eda_features,\n",
    "    x=\"Min\",\n",
    "    hue=\"engagement\",\n",
    "    stat=\"percent\",\n",
    ")\n",
    "eda_features.plot.box(ax=axs[1], column=\"Min\", by=\"engagement\")\n",
    "for ax in axs:\n",
    "    ax.set_xlabel(\"Min normalized EDA\")\n",
    "plt.show()"
   ]
  },
  {
   "cell_type": "code",
   "execution_count": 15,
   "id": "7e44ebe7",
   "metadata": {
    "editable": true,
    "slideshow": {
     "slide_type": "subslide"
    },
    "tags": []
   },
   "outputs": [
    {
     "data": {
      "image/png": "[encoded data removed]",
      "text/plain": [
       "<Figure size 1000x300 with 2 Axes>"
      ]
     },
     "metadata": {},
     "output_type": "display_data"
    }
   ],
   "source": [
    "import seaborn as sns\n",
    "\n",
    "fig, axs = plt.subplots(1, 2, figsize=(10, 3))\n",
    "sns.histplot(\n",
    "    ax=axs[0],\n",
    "    data=eda_features,\n",
    "    x=\"Rise Time\",\n",
    "    hue=\"engagement\",\n",
    "    stat=\"percent\",\n",
    ")\n",
    "eda_features.plot.box(ax=axs[1], column=\"Rise Time\", by=\"engagement\")\n",
    "for ax in axs:\n",
    "    ax.set_xlabel(\"Min normalized EDA\")\n",
    "plt.show()"
   ]
  },
  {
   "cell_type": "code",
   "execution_count": 16,
   "id": "54eddea0",
   "metadata": {
    "editable": true,
    "slideshow": {
     "slide_type": "subslide"
    },
    "tags": []
   },
   "outputs": [
    {
     "data": {
      "image/png": "[encoded data removed]",
      "text/plain": [
       "<Figure size 1000x300 with 2 Axes>"
      ]
     },
     "metadata": {},
     "output_type": "display_data"
    }
   ],
   "source": [
    "import seaborn as sns\n",
    "\n",
    "fig, axs = plt.subplots(1, 2, figsize=(10, 3))\n",
    "sns.histplot(\n",
    "    ax=axs[0],\n",
    "    data=eda_features,\n",
    "    x=\"First Derivative Mean\",\n",
    "    hue=\"engagement\",\n",
    "    stat=\"percent\",\n",
    ")\n",
    "eda_features.plot.box(\n",
    "    ax=axs[1], column=\"First Derivative Mean\", by=\"engagement\"\n",
    ")\n",
    "for ax in axs:\n",
    "    ax.set_xlabel(\"Min normalized EDA\")\n",
    "plt.show()"
   ]
  },
  {
   "cell_type": "markdown",
   "id": "27cd9fd4",
   "metadata": {
    "editable": true,
    "slideshow": {
     "slide_type": "subslide"
    },
    "tags": []
   },
   "source": [
    "### Let's prove some of these differences statistically."
   ]
  },
  {
   "cell_type": "markdown",
   "id": "bac9d32e",
   "metadata": {
    "editable": true,
    "slideshow": {
     "slide_type": "subslide"
    },
    "tags": []
   },
   "source": [
    "## Statistical Tools"
   ]
  },
  {
   "cell_type": "markdown",
   "id": "dd227c88",
   "metadata": {
    "editable": true,
    "slideshow": {
     "slide_type": "subslide"
    },
    "tags": []
   },
   "source": [
    "### • Correlation\n",
    "\n",
    "Each features can be used to predict the engagement level. We can use the correlation coefficient to quantify this relationship."
   ]
  },
  {
   "cell_type": "markdown",
   "id": "b6acb2de",
   "metadata": {
    "editable": true,
    "slideshow": {
     "slide_type": "fragment"
    },
    "tags": []
   },
   "source": [
    "Pearson's correlation coefficient is defined as: \n",
    "$$\n",
    "r = \\frac{\\sum_{i=1}^{n}(x_i - \\bar{x})(y_i - \\bar{y})}{\\sqrt{\\sum_{i=1}^{n}(x_i - \\bar{x})^2}\\sqrt{\\sum_{i=1}^{n}(y_i - \\bar{y})^2}}\n",
    "$$\n",
    "where $x$ and $y$ are the two variables, and $\\bar{x}$ and $\\bar{y}$ are the means of $x$ and $y$ respectively.\n",
    "\n",
    "In our case, $x$ is the feature, and $y$ is the engagement level."
   ]
  },
  {
   "cell_type": "code",
   "execution_count": 17,
   "id": "4cf73d8f",
   "metadata": {
    "editable": true,
    "slideshow": {
     "slide_type": "subslide"
    },
    "tags": []
   },
   "outputs": [
    {
     "data": {
      "text/plain": [
       "Min                      0.325177\n",
       "Max                      0.351228\n",
       "Mean                     0.345755\n",
       "Std                      0.201542\n",
       "Num Peaks               -0.066708\n",
       "Rise Time                0.028111\n",
       "Decay Time              -0.028111\n",
       "Dynamic Range            0.210097\n",
       "Slope                    0.002316\n",
       "Absolute Slope           0.169026\n",
       "First Derivative Mean    0.005893\n",
       "First Derivative Std     0.206657\n",
       "engagement               1.000000\n",
       "Name: engagement, dtype: float64"
      ]
     },
     "metadata": {},
     "output_type": "display_data"
    }
   ],
   "source": [
    "# perform correlation\n",
    "pearson_cor = eda_features.corr(method=\"pearson\")[\"engagement\"]\n",
    "display(pearson_cor)"
   ]
  },
  {
   "cell_type": "markdown",
   "id": "df009661",
   "metadata": {
    "editable": true,
    "slideshow": {
     "slide_type": "subslide"
    },
    "tags": []
   },
   "source": [
    "We can also calculate other correlation coefficients. Indeed, Pearson's $\\rho$ is limited in capturing only linear dependencies. Another approach is to use rank-based correlation coefficients, which are higher when two samples rise and fall together, even if this relationship is not linear."
   ]
  },
  {
   "cell_type": "markdown",
   "id": "f51efc74",
   "metadata": {
    "editable": true,
    "slideshow": {
     "slide_type": "fragment"
    },
    "tags": []
   },
   "source": [
    "We can use Kendall's $\\tau$ correlation coefficient, defined as:\n",
    "$$\n",
    "\\tau = \\frac{n_c - n_d}{\\frac{1}{2}n(n-1)}\n",
    "$$\n",
    "where $n_c$ is the number of concordant pairs, $n_d$ is the number of discordant pairs, and $n$ is the total number of pairs.\n",
    "The number of concordant pairs is the number of pairs $(x_i, y_i)$ and $(x_j, y_j)$ such that $x_i > x_j$ and $y_i > y_j$, or $x_i < x_j$ and $y_i < y_j$. The number of discordant pairs is the number of pairs $(x_i, y_i)$ and $(x_j, y_j)$ such that $x_i > x_j$ and $y_i < y_j$, or $x_i < x_j$ and $y_i > y_j$."
   ]
  },
  {
   "cell_type": "code",
   "execution_count": 18,
   "id": "5d1fa11b",
   "metadata": {
    "editable": true,
    "slideshow": {
     "slide_type": "subslide"
    },
    "tags": []
   },
   "outputs": [
    {
     "data": {
      "text/plain": [
       "Min                      0.294412\n",
       "Max                      0.330711\n",
       "Mean                     0.319585\n",
       "Std                      0.248285\n",
       "Num Peaks               -0.050333\n",
       "Rise Time                0.043838\n",
       "Decay Time              -0.043838\n",
       "Dynamic Range            0.252312\n",
       "Slope                   -0.000593\n",
       "Absolute Slope           0.211532\n",
       "First Derivative Mean    0.009316\n",
       "First Derivative Std     0.262472\n",
       "engagement               1.000000\n",
       "Name: engagement, dtype: float64"
      ]
     },
     "metadata": {},
     "output_type": "display_data"
    }
   ],
   "source": [
    "# perform correlation\n",
    "kendall_cor = eda_features.corr(method=\"kendall\")[\"engagement\"]\n",
    "display(kendall_cor)"
   ]
  },
  {
   "cell_type": "markdown",
   "id": "c1c4f734",
   "metadata": {
    "editable": true,
    "slideshow": {
     "slide_type": "subslide"
    },
    "tags": []
   },
   "source": [
    "### • T-test\n",
    "\n",
    "We assess if the distribution of a feature is different between the two engagement levels."
   ]
  },
  {
   "cell_type": "markdown",
   "id": "36e40324",
   "metadata": {
    "editable": true,
    "slideshow": {
     "slide_type": "fragment"
    },
    "tags": []
   },
   "source": [
    "The t-test is defined as: \n",
    "$$\n",
    "t = \\frac{\\bar{x_1} - \\bar{x_2}}{\\sqrt{\\frac{s_1^2}{n_1} + \\frac{s_2^2}{n_2}}}\n",
    "$$\n",
    "where $\\bar{x_1}$ and $\\bar{x_2}$ are the means of the two distributions, $s_1$ and $s_2$ are the standard deviations, and $n_1$ and $n_2$ are the number of samples.\n",
    "\n",
    "In our case, $x_1$ and $x_2$ are the two distributions of the feature, each corresponding to a different engagement level."
   ]
  },
  {
   "cell_type": "code",
   "execution_count": 19,
   "id": "5371344c",
   "metadata": {
    "editable": true,
    "slideshow": {
     "slide_type": "subslide"
    },
    "tags": []
   },
   "outputs": [
    {
     "name": "stderr",
     "output_type": "stream",
     "text": [
      "/opt/anaconda3/envs/mwc/lib/python3.12/site-packages/scipy/stats/_axis_nan_policy.py:586: RuntimeWarning:\n",
      "\n",
      "Precision loss occurred in moment calculation due to catastrophic cancellation. This occurs when the data are nearly identical. Results may be unreliable.\n",
      "\n"
     ]
    }
   ],
   "source": [
    "# perform t-test between features based on the engagement level\n",
    "from scipy.stats import ttest_ind\n",
    "\n",
    "\n",
    "def ttest_features(x: pd.DataFrame, feature: str) -> float:\n",
    "    return ttest_ind(\n",
    "        x[x[\"engagement\"] == 0][feature].values,\n",
    "        x[x[\"engagement\"] == 1][feature].values,\n",
    "    )[1]\n",
    "\n",
    "\n",
    "t_test_results = eda_features.apply(\n",
    "    lambda x: ttest_features(eda_features, x.name), axis=0\n",
    ")\n",
    "t_test_results = pd.DataFrame(t_test_results, columns=[\"p-value\"])\n",
    "t_test_results[\"above_threshold\"] = t_test_results[\"p-value\"] < 0.05"
   ]
  },
  {
   "cell_type": "code",
   "execution_count": 20,
   "id": "2f1b91d8",
   "metadata": {
    "editable": true,
    "slideshow": {
     "slide_type": "subslide"
    },
    "tags": []
   },
   "outputs": [
    {
     "data": {
      "text/html": [
       "<div>\n",
       "<style scoped>\n",
       "    .dataframe tbody tr th:only-of-type {\n",
       "        vertical-align: middle;\n",
       "    }\n",
       "\n",
       "    .dataframe tbody tr th {\n",
       "        vertical-align: top;\n",
       "    }\n",
       "\n",
       "    .dataframe thead th {\n",
       "        text-align: right;\n",
       "    }\n",
       "</style>\n",
       "<table border=\"1\" class=\"dataframe\">\n",
       "  <thead>\n",
       "    <tr style=\"text-align: right;\">\n",
       "      <th></th>\n",
       "      <th>p-value</th>\n",
       "      <th>above_threshold</th>\n",
       "    </tr>\n",
       "  </thead>\n",
       "  <tbody>\n",
       "    <tr>\n",
       "      <th>Min</th>\n",
       "      <td>8.853300e-183</td>\n",
       "      <td>True</td>\n",
       "    </tr>\n",
       "    <tr>\n",
       "      <th>Max</th>\n",
       "      <td>5.893640e-215</td>\n",
       "      <td>True</td>\n",
       "    </tr>\n",
       "    <tr>\n",
       "      <th>Mean</th>\n",
       "      <td>6.173578e-208</td>\n",
       "      <td>True</td>\n",
       "    </tr>\n",
       "    <tr>\n",
       "      <th>Std</th>\n",
       "      <td>4.845206e-69</td>\n",
       "      <td>True</td>\n",
       "    </tr>\n",
       "    <tr>\n",
       "      <th>Num Peaks</th>\n",
       "      <td>8.442517e-09</td>\n",
       "      <td>True</td>\n",
       "    </tr>\n",
       "    <tr>\n",
       "      <th>Rise Time</th>\n",
       "      <td>1.531606e-02</td>\n",
       "      <td>True</td>\n",
       "    </tr>\n",
       "    <tr>\n",
       "      <th>Decay Time</th>\n",
       "      <td>1.531606e-02</td>\n",
       "      <td>True</td>\n",
       "    </tr>\n",
       "    <tr>\n",
       "      <th>Dynamic Range</th>\n",
       "      <td>5.341873e-75</td>\n",
       "      <td>True</td>\n",
       "    </tr>\n",
       "    <tr>\n",
       "      <th>Slope</th>\n",
       "      <td>8.416931e-01</td>\n",
       "      <td>False</td>\n",
       "    </tr>\n",
       "    <tr>\n",
       "      <th>Absolute Slope</th>\n",
       "      <td>8.318812e-49</td>\n",
       "      <td>True</td>\n",
       "    </tr>\n",
       "    <tr>\n",
       "      <th>First Derivative Mean</th>\n",
       "      <td>6.113254e-01</td>\n",
       "      <td>False</td>\n",
       "    </tr>\n",
       "    <tr>\n",
       "      <th>First Derivative Std</th>\n",
       "      <td>1.430553e-72</td>\n",
       "      <td>True</td>\n",
       "    </tr>\n",
       "    <tr>\n",
       "      <th>engagement</th>\n",
       "      <td>0.000000e+00</td>\n",
       "      <td>True</td>\n",
       "    </tr>\n",
       "  </tbody>\n",
       "</table>\n",
       "</div>"
      ],
      "text/plain": [
       "                             p-value  above_threshold\n",
       "Min                    8.853300e-183             True\n",
       "Max                    5.893640e-215             True\n",
       "Mean                   6.173578e-208             True\n",
       "Std                     4.845206e-69             True\n",
       "Num Peaks               8.442517e-09             True\n",
       "Rise Time               1.531606e-02             True\n",
       "Decay Time              1.531606e-02             True\n",
       "Dynamic Range           5.341873e-75             True\n",
       "Slope                   8.416931e-01            False\n",
       "Absolute Slope          8.318812e-49             True\n",
       "First Derivative Mean   6.113254e-01            False\n",
       "First Derivative Std    1.430553e-72             True\n",
       "engagement              0.000000e+00             True"
      ]
     },
     "metadata": {},
     "output_type": "display_data"
    }
   ],
   "source": [
    "display(t_test_results)"
   ]
  },
  {
   "cell_type": "markdown",
   "id": "adc0fe56",
   "metadata": {
    "editable": true,
    "slideshow": {
     "slide_type": "fragment"
    },
    "tags": []
   },
   "source": [
    "We notice how the p-values of the t-test are very small, meaning that the distributions are different."
   ]
  },
  {
   "cell_type": "markdown",
   "id": "01da8a62",
   "metadata": {
    "editable": true,
    "slideshow": {
     "slide_type": "subslide"
    },
    "tags": []
   },
   "source": [
    "### • Effect size"
   ]
  },
  {
   "cell_type": "markdown",
   "id": "514dc8c6",
   "metadata": {
    "editable": true,
    "slideshow": {
     "slide_type": "fragment"
    },
    "tags": []
   },
   "source": [
    "Statistical tests are limited in assessing differences."
   ]
  },
  {
   "cell_type": "markdown",
   "id": "e523d0c8",
   "metadata": {
    "editable": true,
    "slideshow": {
     "slide_type": "fragment"
    },
    "tags": []
   },
   "source": [
    "They estimate if two samples are different, but not **how much** different they are. To solve this, one could just compare averages. However, comparing the difference in averages of various features is not straightforward, since they are in different units.\n",
    "\n",
    "To address this, one can use effect size measures. These are measures that quantify the difference between two distributions, and are unitless."
   ]
  },
  {
   "cell_type": "markdown",
   "id": "e9f065cd",
   "metadata": {
    "editable": true,
    "slideshow": {
     "slide_type": "fragment"
    },
    "tags": []
   },
   "source": [
    "One such measure is Cliff's $\\delta$, defined as:\n",
    "$$\n",
    "\\delta = \\frac{2}{n_1 n_2} \\sum_{i=1}^{n_1} \\sum_{j=1}^{n_2} sign(x_{1i} - x_{2j})\n",
    "$$\n",
    "where $x_{1i}$ and $x_{2j}$ are the samples of the two distributions, and $n_1$ and $n_2$ are the number of samples.\n"
   ]
  },
  {
   "cell_type": "code",
   "execution_count": 21,
   "id": "8cab8c3e",
   "metadata": {
    "editable": true,
    "slideshow": {
     "slide_type": "subslide"
    },
    "tags": []
   },
   "outputs": [
    {
     "data": {
      "application/vnd.jupyter.widget-view+json": {
       "model_id": "649de8c23bfd4ca49f1768ec2cfd27d2",
       "version_major": 2,
       "version_minor": 0
      },
      "text/plain": [
       "  0%|          | 0/13 [00:00<?, ?it/s]"
      ]
     },
     "metadata": {},
     "output_type": "display_data"
    }
   ],
   "source": [
    "# perform cliff's delta effect size between features\n",
    "from effect_size_analysis.cliff_delta import cliff_delta\n",
    "\n",
    "\n",
    "def calculate_cliff_delta(\n",
    "    x: DataFrame, feature: str, alpha: float = 0.05\n",
    ") -> Series:\n",
    "    return cliff_delta(\n",
    "        s1=x[x[\"engagement\"] == 0][feature].values,\n",
    "        s2=x[x[\"engagement\"] == 1][feature].values,\n",
    "        alpha=alpha,\n",
    "        accurate_ci=False,\n",
    "        raise_nan=False,\n",
    "    )\n",
    "\n",
    "\n",
    "# NOTE: this can take a while to run (around 1/2 minutes)\n",
    "effect_size_results = eda_features.progress_apply(\n",
    "    lambda x: calculate_cliff_delta(eda_features, x.name), axis=0\n",
    ")\n",
    "effect_size_results = effect_size_results.T\n",
    "effect_size_results.columns = ['mean_delta', 'confidence_interval_delta']"
   ]
  },
  {
   "cell_type": "code",
   "execution_count": 22,
   "id": "6d67183c",
   "metadata": {
    "editable": true,
    "slideshow": {
     "slide_type": "subslide"
    },
    "tags": []
   },
   "outputs": [
    {
     "data": {
      "text/html": [
       "<div>\n",
       "<style scoped>\n",
       "    .dataframe tbody tr th:only-of-type {\n",
       "        vertical-align: middle;\n",
       "    }\n",
       "\n",
       "    .dataframe tbody tr th {\n",
       "        vertical-align: top;\n",
       "    }\n",
       "\n",
       "    .dataframe thead th {\n",
       "        text-align: right;\n",
       "    }\n",
       "</style>\n",
       "<table border=\"1\" class=\"dataframe\">\n",
       "  <thead>\n",
       "    <tr style=\"text-align: right;\">\n",
       "      <th></th>\n",
       "      <th>mean_delta</th>\n",
       "      <th>confidence_interval_delta</th>\n",
       "    </tr>\n",
       "  </thead>\n",
       "  <tbody>\n",
       "    <tr>\n",
       "      <th>Min</th>\n",
       "      <td>-0.435521</td>\n",
       "      <td>(-0.46524269299882975, -0.40579888114799495)</td>\n",
       "    </tr>\n",
       "    <tr>\n",
       "      <th>Max</th>\n",
       "      <td>-0.489217</td>\n",
       "      <td>(-0.5199532756734679, -0.4584812190132045)</td>\n",
       "    </tr>\n",
       "    <tr>\n",
       "      <th>Mean</th>\n",
       "      <td>-0.472759</td>\n",
       "      <td>(-0.5030548851099411, -0.4424640547297038)</td>\n",
       "    </tr>\n",
       "    <tr>\n",
       "      <th>Std</th>\n",
       "      <td>-0.367285</td>\n",
       "      <td>(-0.3986091912108051, -0.3359607133023918)</td>\n",
       "    </tr>\n",
       "    <tr>\n",
       "      <th>Num Peaks</th>\n",
       "      <td>0.058745</td>\n",
       "      <td>(0.02765642563574908, 0.08983333550174205)</td>\n",
       "    </tr>\n",
       "    <tr>\n",
       "      <th>Rise Time</th>\n",
       "      <td>-0.041953</td>\n",
       "      <td>(-0.06595322645906011, -0.017952464665740773)</td>\n",
       "    </tr>\n",
       "    <tr>\n",
       "      <th>Decay Time</th>\n",
       "      <td>0.041953</td>\n",
       "      <td>(0.017952464665740773, 0.06595322645906011)</td>\n",
       "    </tr>\n",
       "    <tr>\n",
       "      <th>Dynamic Range</th>\n",
       "      <td>-0.373242</td>\n",
       "      <td>(-0.40430228532043394, -0.3421819606855557)</td>\n",
       "    </tr>\n",
       "    <tr>\n",
       "      <th>Slope</th>\n",
       "      <td>0.000878</td>\n",
       "      <td>(-0.026709011673735645, 0.028464516367101168)</td>\n",
       "    </tr>\n",
       "    <tr>\n",
       "      <th>Absolute Slope</th>\n",
       "      <td>-0.312917</td>\n",
       "      <td>(-0.3447128756829617, -0.28112138443032686)</td>\n",
       "    </tr>\n",
       "    <tr>\n",
       "      <th>First Derivative Mean</th>\n",
       "      <td>-0.013781</td>\n",
       "      <td>(-0.04122376877244109, 0.013661396165146545)</td>\n",
       "    </tr>\n",
       "    <tr>\n",
       "      <th>First Derivative Std</th>\n",
       "      <td>-0.388272</td>\n",
       "      <td>(-0.41860986835748887, -0.3579339952205017)</td>\n",
       "    </tr>\n",
       "    <tr>\n",
       "      <th>engagement</th>\n",
       "      <td>-1.0</td>\n",
       "      <td>(-1.0, -1.0)</td>\n",
       "    </tr>\n",
       "  </tbody>\n",
       "</table>\n",
       "</div>"
      ],
      "text/plain": [
       "                      mean_delta  \\\n",
       "Min                    -0.435521   \n",
       "Max                    -0.489217   \n",
       "Mean                   -0.472759   \n",
       "Std                    -0.367285   \n",
       "Num Peaks               0.058745   \n",
       "Rise Time              -0.041953   \n",
       "Decay Time              0.041953   \n",
       "Dynamic Range          -0.373242   \n",
       "Slope                   0.000878   \n",
       "Absolute Slope         -0.312917   \n",
       "First Derivative Mean  -0.013781   \n",
       "First Derivative Std   -0.388272   \n",
       "engagement                  -1.0   \n",
       "\n",
       "                                           confidence_interval_delta  \n",
       "Min                     (-0.46524269299882975, -0.40579888114799495)  \n",
       "Max                       (-0.5199532756734679, -0.4584812190132045)  \n",
       "Mean                      (-0.5030548851099411, -0.4424640547297038)  \n",
       "Std                       (-0.3986091912108051, -0.3359607133023918)  \n",
       "Num Peaks                 (0.02765642563574908, 0.08983333550174205)  \n",
       "Rise Time              (-0.06595322645906011, -0.017952464665740773)  \n",
       "Decay Time               (0.017952464665740773, 0.06595322645906011)  \n",
       "Dynamic Range            (-0.40430228532043394, -0.3421819606855557)  \n",
       "Slope                  (-0.026709011673735645, 0.028464516367101168)  \n",
       "Absolute Slope           (-0.3447128756829617, -0.28112138443032686)  \n",
       "First Derivative Mean   (-0.04122376877244109, 0.013661396165146545)  \n",
       "First Derivative Std     (-0.41860986835748887, -0.3579339952205017)  \n",
       "engagement                                              (-1.0, -1.0)  "
      ]
     },
     "metadata": {},
     "output_type": "display_data"
    }
   ],
   "source": [
    "display(effect_size_results)"
   ]
  },
  {
   "cell_type": "markdown",
   "id": "3b9561ec",
   "metadata": {
    "editable": true,
    "slideshow": {
     "slide_type": "fragment"
    },
    "tags": []
   },
   "source": [
    "What do they tell?"
   ]
  },
  {
   "cell_type": "markdown",
   "id": "157d363c",
   "metadata": {
    "editable": true,
    "slideshow": {
     "slide_type": "subslide"
    },
    "tags": []
   },
   "source": [
    "When $\\delta < 0$, the distribution of the first sample is smaller than the distribution of the second sample.\n",
    "\n",
    "When $\\delta > 0$, the distribution of the first sample is larger than the distribution of the second sample.\n",
    "\n",
    "When $\\delta = 0$, the distributions are equal.\n",
    "\n",
    "The $\\delta$ values can also be interpreted as follows [1]:\n",
    "\n",
    "• $|\\delta| < 0.11$: negligible &nbsp;&nbsp;• $|\\delta| > 0.11$: small\n",
    "\n",
    "• $|\\delta| > 0.28$: medium &nbsp;&nbsp;&nbsp;• $|\\delta| > 0.43$: large"
   ]
  },
  {
   "cell_type": "code",
   "execution_count": 23,
   "id": "d8d19a1d",
   "metadata": {
    "editable": true,
    "slideshow": {
     "slide_type": "fragment"
    },
    "tags": []
   },
   "outputs": [
    {
     "data": {
      "text/plain": [
       "Min                     -0.435521\n",
       "Max                     -0.489217\n",
       "Mean                    -0.472759\n",
       "Std                     -0.367285\n",
       "Num Peaks                0.058745\n",
       "Rise Time               -0.041953\n",
       "Decay Time               0.041953\n",
       "Dynamic Range           -0.373242\n",
       "Slope                    0.000878\n",
       "Absolute Slope          -0.312917\n",
       "First Derivative Mean   -0.013781\n",
       "First Derivative Std    -0.388272\n",
       "engagement                   -1.0\n",
       "Name: mean_delta, dtype: object"
      ]
     },
     "metadata": {},
     "output_type": "display_data"
    }
   ],
   "source": [
    "display(effect_size_results.iloc[:,0])"
   ]
  },
  {
   "cell_type": "markdown",
   "id": "56f6b56f",
   "metadata": {
    "editable": true,
    "slideshow": {
     "slide_type": "slide"
    },
    "tags": []
   },
   "source": [
    "# Machine Learning"
   ]
  },
  {
   "cell_type": "markdown",
   "id": "02a88055",
   "metadata": {
    "editable": true,
    "slideshow": {
     "slide_type": "subslide"
    },
    "tags": []
   },
   "source": [
    "### • We will make a classification of the engagement level"
   ]
  },
  {
   "cell_type": "markdown",
   "id": "ff4b78bc",
   "metadata": {
    "editable": true,
    "slideshow": {
     "slide_type": "fragment"
    },
    "tags": []
   },
   "source": [
    "### • Answer the question: can we predict engagement using EDA data?"
   ]
  },
  {
   "cell_type": "markdown",
   "id": "c154923f",
   "metadata": {
    "editable": true,
    "slideshow": {
     "slide_type": "subslide"
    },
    "tags": []
   },
   "source": [
    "## Validation Paradigms"
   ]
  },
  {
   "cell_type": "markdown",
   "id": "a37e7f75",
   "metadata": {
    "editable": true,
    "slideshow": {
     "slide_type": "fragment"
    },
    "tags": []
   },
   "source": [
    "### • We need to validate our model"
   ]
  },
  {
   "cell_type": "markdown",
   "id": "8228d66a",
   "metadata": {
    "editable": true,
    "slideshow": {
     "slide_type": "fragment"
    },
    "tags": []
   },
   "source": [
    "### • There's 3 main approaches when dealing with physiological data"
   ]
  },
  {
   "cell_type": "markdown",
   "id": "d1517e3e",
   "metadata": {
    "editable": true,
    "slideshow": {
     "slide_type": "subslide"
    },
    "tags": []
   },
   "source": [
    "### • Use data from the same user and same day at both train and test time.\n",
    "This allows to see if the model can generalize to new inputs from the same user, but not to new users. In this case, we use as validation paradigm **5-FOLD CROSS VALIDATION**."
   ]
  },
  {
   "cell_type": "markdown",
   "id": "b5ac189a",
   "metadata": {
    "editable": true,
    "slideshow": {
     "slide_type": "fragment"
    },
    "tags": []
   },
   "source": [
    "(Cross validation is a technique to validate a model. It consists in splitting the data in 5 parts, and using 4 parts to train the model, and the remaining part to test it. This is repeated 5 times, so that each part is used once as test set. The results are then averaged.)"
   ]
  },
  {
   "cell_type": "markdown",
   "id": "b565800b",
   "metadata": {
    "editable": true,
    "slideshow": {
     "slide_type": "subslide"
    },
    "tags": []
   },
   "source": [
    "### • Train and test with data from different users.\n",
    "\n",
    "In this scenario, we try to see if the model is capable of generalizing to unseen users, which might be the case when deploying our model. In this case, we use as validation paradigm **LEAVE-ONE-USER-OUT CROSS VALIDATION**."
   ]
  },
  {
   "cell_type": "markdown",
   "id": "0226dc51",
   "metadata": {
    "editable": true,
    "slideshow": {
     "slide_type": "subslide"
    },
    "tags": []
   },
   "source": [
    "### • Use data from the same user but different days at both train and test time.\n",
    "This allows to see if the model can generalize to new inputs from the same user, but not to new users. In this case, we use as validation paradigm **LEAVE ONE DAY OUT CROSS VALIDATION**."
   ]
  },
  {
   "cell_type": "markdown",
   "id": "40bfd6f7",
   "metadata": {
    "editable": true,
    "slideshow": {
     "slide_type": "fragment"
    },
    "tags": []
   },
   "source": [
    "### For the sake of this tutorial, we will not use Leave One Day Out Cross Validation"
   ]
  },
  {
   "cell_type": "markdown",
   "id": "98fddba8",
   "metadata": {
    "editable": true,
    "slideshow": {
     "slide_type": "subslide"
    },
    "tags": []
   },
   "source": [
    "# 5-fold cross validation"
   ]
  },
  {
   "cell_type": "markdown",
   "id": "bc65d8f2",
   "metadata": {
    "editable": true,
    "slideshow": {
     "slide_type": "fragment"
    },
    "tags": []
   },
   "source": [
    "Transform our dataframe into a matrix for x and y."
   ]
  },
  {
   "cell_type": "code",
   "execution_count": 24,
   "id": "f6a77e98",
   "metadata": {
    "editable": true,
    "slideshow": {
     "slide_type": "fragment"
    },
    "tags": []
   },
   "outputs": [],
   "source": [
    "X = eda_features.drop(\"engagement\", axis=1).values\n",
    "y = eda_features[\"engagement\"].values"
   ]
  },
  {
   "cell_type": "markdown",
   "id": "c1d5f47e",
   "metadata": {
    "editable": true,
    "slideshow": {
     "slide_type": "fragment"
    },
    "tags": []
   },
   "source": [
    "Train and validate our model using `scikit-learn` and `xgboost`."
   ]
  },
  {
   "cell_type": "markdown",
   "id": "b1f5d77e",
   "metadata": {
    "editable": true,
    "slideshow": {
     "slide_type": "subslide"
    },
    "tags": []
   },
   "source": [
    "### What is XGBoost?"
   ]
  },
  {
   "cell_type": "markdown",
   "id": "bc463842",
   "metadata": {
    "editable": true,
    "slideshow": {
     "slide_type": "subslide"
    },
    "tags": []
   },
   "source": [
    "XGboost is a library for gradient boosting. It is a machine learning technique that produces a prediction model in the form of an ensemble of weak prediction models, typically decision trees. It builds the model in a stage-wise fashion like other boosting methods do, and it generalizes them by allowing optimization of an arbitrary differentiable loss function."
   ]
  },
  {
   "cell_type": "markdown",
   "id": "2395a13c",
   "metadata": {
    "editable": true,
    "slideshow": {
     "slide_type": "subslide"
    },
    "tags": []
   },
   "source": [
    "# BUT"
   ]
  },
  {
   "cell_type": "markdown",
   "id": "39fe7b44",
   "metadata": {
    "editable": true,
    "slideshow": {
     "slide_type": "subslide"
    },
    "tags": []
   },
   "source": [
    "### What validation metric should we use?"
   ]
  },
  {
   "cell_type": "markdown",
   "id": "de68fd9c",
   "metadata": {
    "editable": true,
    "slideshow": {
     "slide_type": "fragment"
    },
    "tags": []
   },
   "source": [
    "Usually, when you perform a binary classification, you use the accuracy as a metric. However, this is not always the best choice. In our case, the data is not evenly distributed between the two classes. "
   ]
  },
  {
   "cell_type": "code",
   "execution_count": 25,
   "id": "e70285a6",
   "metadata": {
    "editable": true,
    "slideshow": {
     "slide_type": "subslide"
    },
    "tags": []
   },
   "outputs": [
    {
     "data": {
      "text/plain": [
       "<Axes: >"
      ]
     },
     "execution_count": 25,
     "metadata": {},
     "output_type": "execute_result"
    },
    {
     "data": {
      "image/png": "[encoded data removed]",
      "text/plain": [
       "<Figure size 640x480 with 1 Axes>"
      ]
     },
     "metadata": {},
     "output_type": "display_data"
    }
   ],
   "source": [
    "eda_data[\"engagement\"].hist()"
   ]
  },
  {
   "cell_type": "markdown",
   "id": "7231a4e6",
   "metadata": {
    "editable": true,
    "slideshow": {
     "slide_type": "fragment"
    },
    "tags": []
   },
   "source": [
    "We have more samples from where people are not engaged, than when they are engaged. This is called **class imbalance**."
   ]
  },
  {
   "cell_type": "markdown",
   "id": "a7116015",
   "metadata": {
    "editable": true,
    "slideshow": {
     "slide_type": "subslide"
    },
    "tags": []
   },
   "source": [
    "While there are many strategies to deal with this, e.g., resampling, we will simply choose a validation metric that can account for imbalanced: **balanced accuracy**, defined as:\n",
    "$$\n",
    "\\frac{1}{2} \\left( \\frac{TP}{TP + FN} + \\frac{TN}{TN + FP} \\right)\n",
    "$$\n",
    "where $TP$ is the number of true positives, $TN$ is the number of true negatives, $FP$ is the number of false positives, and $FN$ is the number of false negatives."
   ]
  },
  {
   "cell_type": "markdown",
   "id": "3e0a31a7",
   "metadata": {
    "editable": true,
    "slideshow": {
     "slide_type": "fragment"
    },
    "tags": []
   },
   "source": [
    "We should also compare our results to a baseline classifier, i.e., a classifier which makes random guesses."
   ]
  },
  {
   "cell_type": "code",
   "execution_count": 26,
   "id": "367e9fa7",
   "metadata": {
    "editable": true,
    "slideshow": {
     "slide_type": "subslide"
    },
    "tags": []
   },
   "outputs": [],
   "source": [
    "groups: np.ndarray = eda_features.index.get_level_values(0).values"
   ]
  },
  {
   "cell_type": "markdown",
   "id": "19e229fb",
   "metadata": {},
   "source": [
    "We are using the `StratifiedKfold` method, which allows to leave each fold with the same distribution between the two classes. We use the `shuffle=True` term, which addresses possible issues with splits containing the same data, leading to lower accuracy. Right now, the splits will not take into account the division of the groups. It could be implemented manually, but for the purposes of the course we will not do it."
   ]
  },
  {
   "cell_type": "code",
   "execution_count": 27,
   "id": "7d8b4efa",
   "metadata": {
    "editable": true,
    "slideshow": {
     "slide_type": "fragment"
    },
    "tags": []
   },
   "outputs": [
    {
     "name": "stderr",
     "output_type": "stream",
     "text": [
      "/opt/anaconda3/envs/mwc/lib/python3.12/site-packages/sklearn/utils/_tags.py:354: FutureWarning:\n",
      "\n",
      "The XGBClassifier or classes from which it inherits use `_get_tags` and `_more_tags`. Please define the `__sklearn_tags__` method, or inherit from `sklearn.base.BaseEstimator` and/or other appropriate mixins such as `sklearn.base.TransformerMixin`, `sklearn.base.ClassifierMixin`, `sklearn.base.RegressorMixin`, and `sklearn.base.OutlierMixin`. From scikit-learn 1.7, not defining `__sklearn_tags__` will raise an error.\n",
      "\n"
     ]
    },
    {
     "ename": "AttributeError",
     "evalue": "'super' object has no attribute '__sklearn_tags__'",
     "output_type": "error",
     "traceback": [
      "\u001b[0;31m---------------------------------------------------------------------------\u001b[0m",
      "\u001b[0;31mAttributeError\u001b[0m                            Traceback (most recent call last)",
      "Cell \u001b[0;32mIn[27], line 10\u001b[0m\n\u001b[1;32m      7\u001b[0m xgb \u001b[38;5;241m=\u001b[39m XGBClassifier(random_state\u001b[38;5;241m=\u001b[39m\u001b[38;5;241m42\u001b[39m)\n\u001b[1;32m      8\u001b[0m kf \u001b[38;5;241m=\u001b[39m StratifiedKFold(n_splits\u001b[38;5;241m=\u001b[39m\u001b[38;5;241m5\u001b[39m, shuffle\u001b[38;5;241m=\u001b[39m\u001b[38;5;28;01mTrue\u001b[39;00m, random_state\u001b[38;5;241m=\u001b[39m\u001b[38;5;241m42\u001b[39m)\n\u001b[0;32m---> 10\u001b[0m cv_results_xgboost \u001b[38;5;241m=\u001b[39m \u001b[43mcross_validate\u001b[49m\u001b[43m(\u001b[49m\n\u001b[1;32m     11\u001b[0m \u001b[43m    \u001b[49m\u001b[43mxgb\u001b[49m\u001b[43m,\u001b[49m\n\u001b[1;32m     12\u001b[0m \u001b[43m    \u001b[49m\u001b[43mX\u001b[49m\u001b[38;5;241;43m.\u001b[39;49m\u001b[43mreshape\u001b[49m\u001b[43m(\u001b[49m\u001b[43mX\u001b[49m\u001b[38;5;241;43m.\u001b[39;49m\u001b[43mshape\u001b[49m\u001b[43m[\u001b[49m\u001b[38;5;241;43m0\u001b[39;49m\u001b[43m]\u001b[49m\u001b[43m,\u001b[49m\u001b[43m \u001b[49m\u001b[38;5;241;43m-\u001b[39;49m\u001b[38;5;241;43m1\u001b[39;49m\u001b[43m)\u001b[49m\u001b[43m,\u001b[49m\n\u001b[1;32m     13\u001b[0m \u001b[43m    \u001b[49m\u001b[43my\u001b[49m\u001b[43m,\u001b[49m\n\u001b[1;32m     14\u001b[0m \u001b[43m    \u001b[49m\u001b[43mcv\u001b[49m\u001b[38;5;241;43m=\u001b[39;49m\u001b[43mkf\u001b[49m\u001b[43m,\u001b[49m\n\u001b[1;32m     15\u001b[0m \u001b[43m    \u001b[49m\u001b[43mscoring\u001b[49m\u001b[38;5;241;43m=\u001b[39;49m\u001b[38;5;124;43m\"\u001b[39;49m\u001b[38;5;124;43mbalanced_accuracy\u001b[39;49m\u001b[38;5;124;43m\"\u001b[39;49m\u001b[43m,\u001b[49m\n\u001b[1;32m     16\u001b[0m \u001b[43m    \u001b[49m\u001b[43mreturn_train_score\u001b[49m\u001b[38;5;241;43m=\u001b[39;49m\u001b[38;5;28;43;01mTrue\u001b[39;49;00m\u001b[43m,\u001b[49m\n\u001b[1;32m     17\u001b[0m \u001b[43m)\u001b[49m\n",
      "File \u001b[0;32m/opt/anaconda3/envs/mwc/lib/python3.12/site-packages/sklearn/utils/_param_validation.py:216\u001b[0m, in \u001b[0;36mvalidate_params.<locals>.decorator.<locals>.wrapper\u001b[0;34m(*args, **kwargs)\u001b[0m\n\u001b[1;32m    210\u001b[0m \u001b[38;5;28;01mtry\u001b[39;00m:\n\u001b[1;32m    211\u001b[0m     \u001b[38;5;28;01mwith\u001b[39;00m config_context(\n\u001b[1;32m    212\u001b[0m         skip_parameter_validation\u001b[38;5;241m=\u001b[39m(\n\u001b[1;32m    213\u001b[0m             prefer_skip_nested_validation \u001b[38;5;129;01mor\u001b[39;00m global_skip_validation\n\u001b[1;32m    214\u001b[0m         )\n\u001b[1;32m    215\u001b[0m     ):\n\u001b[0;32m--> 216\u001b[0m         \u001b[38;5;28;01mreturn\u001b[39;00m \u001b[43mfunc\u001b[49m\u001b[43m(\u001b[49m\u001b[38;5;241;43m*\u001b[39;49m\u001b[43margs\u001b[49m\u001b[43m,\u001b[49m\u001b[43m \u001b[49m\u001b[38;5;241;43m*\u001b[39;49m\u001b[38;5;241;43m*\u001b[39;49m\u001b[43mkwargs\u001b[49m\u001b[43m)\u001b[49m\n\u001b[1;32m    217\u001b[0m \u001b[38;5;28;01mexcept\u001b[39;00m InvalidParameterError \u001b[38;5;28;01mas\u001b[39;00m e:\n\u001b[1;32m    218\u001b[0m     \u001b[38;5;66;03m# When the function is just a wrapper around an estimator, we allow\u001b[39;00m\n\u001b[1;32m    219\u001b[0m     \u001b[38;5;66;03m# the function to delegate validation to the estimator, but we replace\u001b[39;00m\n\u001b[1;32m    220\u001b[0m     \u001b[38;5;66;03m# the name of the estimator by the name of the function in the error\u001b[39;00m\n\u001b[1;32m    221\u001b[0m     \u001b[38;5;66;03m# message to avoid confusion.\u001b[39;00m\n\u001b[1;32m    222\u001b[0m     msg \u001b[38;5;241m=\u001b[39m re\u001b[38;5;241m.\u001b[39msub(\n\u001b[1;32m    223\u001b[0m         \u001b[38;5;124mr\u001b[39m\u001b[38;5;124m\"\u001b[39m\u001b[38;5;124mparameter of \u001b[39m\u001b[38;5;124m\\\u001b[39m\u001b[38;5;124mw+ must be\u001b[39m\u001b[38;5;124m\"\u001b[39m,\n\u001b[1;32m    224\u001b[0m         \u001b[38;5;124mf\u001b[39m\u001b[38;5;124m\"\u001b[39m\u001b[38;5;124mparameter of \u001b[39m\u001b[38;5;132;01m{\u001b[39;00mfunc\u001b[38;5;241m.\u001b[39m\u001b[38;5;18m__qualname__\u001b[39m\u001b[38;5;132;01m}\u001b[39;00m\u001b[38;5;124m must be\u001b[39m\u001b[38;5;124m\"\u001b[39m,\n\u001b[1;32m    225\u001b[0m         \u001b[38;5;28mstr\u001b[39m(e),\n\u001b[1;32m    226\u001b[0m     )\n",
      "File \u001b[0;32m/opt/anaconda3/envs/mwc/lib/python3.12/site-packages/sklearn/model_selection/_validation.py:347\u001b[0m, in \u001b[0;36mcross_validate\u001b[0;34m(estimator, X, y, groups, scoring, cv, n_jobs, verbose, params, pre_dispatch, return_train_score, return_estimator, return_indices, error_score)\u001b[0m\n\u001b[1;32m    343\u001b[0m _check_groups_routing_disabled(groups)\n\u001b[1;32m    345\u001b[0m X, y \u001b[38;5;241m=\u001b[39m indexable(X, y)\n\u001b[0;32m--> 347\u001b[0m cv \u001b[38;5;241m=\u001b[39m check_cv(cv, y, classifier\u001b[38;5;241m=\u001b[39m\u001b[43mis_classifier\u001b[49m\u001b[43m(\u001b[49m\u001b[43mestimator\u001b[49m\u001b[43m)\u001b[49m)\n\u001b[1;32m    349\u001b[0m scorers \u001b[38;5;241m=\u001b[39m check_scoring(\n\u001b[1;32m    350\u001b[0m     estimator, scoring\u001b[38;5;241m=\u001b[39mscoring, raise_exc\u001b[38;5;241m=\u001b[39m(error_score \u001b[38;5;241m==\u001b[39m \u001b[38;5;124m\"\u001b[39m\u001b[38;5;124mraise\u001b[39m\u001b[38;5;124m\"\u001b[39m)\n\u001b[1;32m    351\u001b[0m )\n\u001b[1;32m    353\u001b[0m \u001b[38;5;28;01mif\u001b[39;00m _routing_enabled():\n\u001b[1;32m    354\u001b[0m     \u001b[38;5;66;03m# For estimators, a MetadataRouter is created in get_metadata_routing\u001b[39;00m\n\u001b[1;32m    355\u001b[0m     \u001b[38;5;66;03m# methods. For these router methods, we create the router to use\u001b[39;00m\n\u001b[1;32m    356\u001b[0m     \u001b[38;5;66;03m# `process_routing` on it.\u001b[39;00m\n",
      "File \u001b[0;32m/opt/anaconda3/envs/mwc/lib/python3.12/site-packages/sklearn/base.py:1237\u001b[0m, in \u001b[0;36mis_classifier\u001b[0;34m(estimator)\u001b[0m\n\u001b[1;32m   1230\u001b[0m     warnings\u001b[38;5;241m.\u001b[39mwarn(\n\u001b[1;32m   1231\u001b[0m         \u001b[38;5;124mf\u001b[39m\u001b[38;5;124m\"\u001b[39m\u001b[38;5;124mpassing a class to \u001b[39m\u001b[38;5;132;01m{\u001b[39;00m\u001b[38;5;28mprint\u001b[39m(inspect\u001b[38;5;241m.\u001b[39mstack()[\u001b[38;5;241m0\u001b[39m][\u001b[38;5;241m3\u001b[39m])\u001b[38;5;132;01m}\u001b[39;00m\u001b[38;5;124m is deprecated and \u001b[39m\u001b[38;5;124m\"\u001b[39m\n\u001b[1;32m   1232\u001b[0m         \u001b[38;5;124m\"\u001b[39m\u001b[38;5;124mwill be removed in 1.8. Use an instance of the class instead.\u001b[39m\u001b[38;5;124m\"\u001b[39m,\n\u001b[1;32m   1233\u001b[0m         \u001b[38;5;167;01mFutureWarning\u001b[39;00m,\n\u001b[1;32m   1234\u001b[0m     )\n\u001b[1;32m   1235\u001b[0m     \u001b[38;5;28;01mreturn\u001b[39;00m \u001b[38;5;28mgetattr\u001b[39m(estimator, \u001b[38;5;124m\"\u001b[39m\u001b[38;5;124m_estimator_type\u001b[39m\u001b[38;5;124m\"\u001b[39m, \u001b[38;5;28;01mNone\u001b[39;00m) \u001b[38;5;241m==\u001b[39m \u001b[38;5;124m\"\u001b[39m\u001b[38;5;124mclassifier\u001b[39m\u001b[38;5;124m\"\u001b[39m\n\u001b[0;32m-> 1237\u001b[0m \u001b[38;5;28;01mreturn\u001b[39;00m \u001b[43mget_tags\u001b[49m\u001b[43m(\u001b[49m\u001b[43mestimator\u001b[49m\u001b[43m)\u001b[49m\u001b[38;5;241m.\u001b[39mestimator_type \u001b[38;5;241m==\u001b[39m \u001b[38;5;124m\"\u001b[39m\u001b[38;5;124mclassifier\u001b[39m\u001b[38;5;124m\"\u001b[39m\n",
      "File \u001b[0;32m/opt/anaconda3/envs/mwc/lib/python3.12/site-packages/sklearn/utils/_tags.py:405\u001b[0m, in \u001b[0;36mget_tags\u001b[0;34m(estimator)\u001b[0m\n\u001b[1;32m    403\u001b[0m \u001b[38;5;28;01mfor\u001b[39;00m klass \u001b[38;5;129;01min\u001b[39;00m \u001b[38;5;28mreversed\u001b[39m(\u001b[38;5;28mtype\u001b[39m(estimator)\u001b[38;5;241m.\u001b[39mmro()):\n\u001b[1;32m    404\u001b[0m     \u001b[38;5;28;01mif\u001b[39;00m \u001b[38;5;124m\"\u001b[39m\u001b[38;5;124m__sklearn_tags__\u001b[39m\u001b[38;5;124m\"\u001b[39m \u001b[38;5;129;01min\u001b[39;00m \u001b[38;5;28mvars\u001b[39m(klass):\n\u001b[0;32m--> 405\u001b[0m         sklearn_tags_provider[klass] \u001b[38;5;241m=\u001b[39m \u001b[43mklass\u001b[49m\u001b[38;5;241;43m.\u001b[39;49m\u001b[43m__sklearn_tags__\u001b[49m\u001b[43m(\u001b[49m\u001b[43mestimator\u001b[49m\u001b[43m)\u001b[49m  \u001b[38;5;66;03m# type: ignore[attr-defined]\u001b[39;00m\n\u001b[1;32m    406\u001b[0m         class_order\u001b[38;5;241m.\u001b[39mappend(klass)\n\u001b[1;32m    407\u001b[0m     \u001b[38;5;28;01melif\u001b[39;00m \u001b[38;5;124m\"\u001b[39m\u001b[38;5;124m_more_tags\u001b[39m\u001b[38;5;124m\"\u001b[39m \u001b[38;5;129;01min\u001b[39;00m \u001b[38;5;28mvars\u001b[39m(klass):\n",
      "File \u001b[0;32m/opt/anaconda3/envs/mwc/lib/python3.12/site-packages/sklearn/base.py:540\u001b[0m, in \u001b[0;36mClassifierMixin.__sklearn_tags__\u001b[0;34m(self)\u001b[0m\n\u001b[1;32m    539\u001b[0m \u001b[38;5;28;01mdef\u001b[39;00m\u001b[38;5;250m \u001b[39m\u001b[38;5;21m__sklearn_tags__\u001b[39m(\u001b[38;5;28mself\u001b[39m):\n\u001b[0;32m--> 540\u001b[0m     tags \u001b[38;5;241m=\u001b[39m \u001b[38;5;28;43msuper\u001b[39;49m\u001b[43m(\u001b[49m\u001b[43m)\u001b[49m\u001b[38;5;241;43m.\u001b[39;49m\u001b[43m__sklearn_tags__\u001b[49m()\n\u001b[1;32m    541\u001b[0m     tags\u001b[38;5;241m.\u001b[39mestimator_type \u001b[38;5;241m=\u001b[39m \u001b[38;5;124m\"\u001b[39m\u001b[38;5;124mclassifier\u001b[39m\u001b[38;5;124m\"\u001b[39m\n\u001b[1;32m    542\u001b[0m     tags\u001b[38;5;241m.\u001b[39mclassifier_tags \u001b[38;5;241m=\u001b[39m ClassifierTags()\n",
      "\u001b[0;31mAttributeError\u001b[0m: 'super' object has no attribute '__sklearn_tags__'"
     ]
    }
   ],
   "source": [
    "# load xgboost and cross validation\n",
    "from xgboost import XGBClassifier\n",
    "from sklearn.model_selection import StratifiedKFold\n",
    "from sklearn.model_selection import cross_validate, cross_val_score\n",
    "\n",
    "# perform cross validation with xgboost and balanced accuracy\n",
    "xgb = XGBClassifier(random_state=42)\n",
    "kf = StratifiedKFold(n_splits=5, shuffle=True, random_state=42)\n",
    "\n",
    "cv_results_xgboost = cross_validate(\n",
    "    xgb,\n",
    "    X.reshape(X.shape[0], -1),\n",
    "    y,\n",
    "    cv=kf,\n",
    "    scoring=\"balanced_accuracy\",\n",
    "    return_train_score=True,\n",
    ")"
   ]
  },
  {
   "cell_type": "code",
   "execution_count": 28,
   "id": "ef3a81f1",
   "metadata": {
    "editable": true,
    "slideshow": {
     "slide_type": "subslide"
    },
    "tags": []
   },
   "outputs": [],
   "source": [
    "# load random classifier and cross validation\n",
    "from sklearn.model_selection import cross_validate\n",
    "from sklearn.dummy import DummyClassifier\n",
    "\n",
    "# perform cross validation with xgboost and balanced accuracy\n",
    "model = DummyClassifier(strategy=\"uniform\", random_state=42)\n",
    "kf = StratifiedKFold(n_splits=5, shuffle=True, random_state=42)\n",
    "\n",
    "cv_results_dummy = cross_validate(\n",
    "    model,\n",
    "    X.reshape(X.shape[0], -1),\n",
    "    y,\n",
    "    cv=kf,\n",
    "    scoring=\"balanced_accuracy\",\n",
    "    return_train_score=True,\n",
    ")"
   ]
  },
  {
   "cell_type": "code",
   "execution_count": null,
   "id": "69107280",
   "metadata": {
    "editable": true,
    "slideshow": {
     "slide_type": "subslide"
    },
    "tags": []
   },
   "outputs": [],
   "source": [
    "print(\n",
    "    f\"Average validation score of XGBoost: %.2f ± %.2f %%\"\n",
    "    % (\n",
    "        100 * np.mean(cv_results_xgboost[\"test_score\"]),\n",
    "        100 * np.std(cv_results_xgboost[\"test_score\"]),\n",
    "    )\n",
    ")\n",
    "print(\n",
    "    f\"Average validation score of DummyClassifier: %.2f ± %.2f %%\"\n",
    "    % (\n",
    "        100 * np.mean(cv_results_dummy[\"test_score\"]),\n",
    "        100 * np.std(cv_results_dummy[\"test_score\"]),\n",
    "    )\n",
    ")"
   ]
  },
  {
   "cell_type": "markdown",
   "id": "6aa1da60",
   "metadata": {},
   "source": [
    "<!-- write in red -->\n",
    "<span style=\"color:red\">When performing the random shuffling of our data, we aid the model in learning – first by avoiding accidental \"Leave One User Out\", and second by avoiding temporal dependencies. Nonetheless, this approach is limited in estimating how the model might perform on unseen days or users. It also has an issue with \"temporal leakage\": we're using data from the last to predict the future in some instances. However, for this tutorial it is mostly fine, and it is indeed a validation paradigm implemented in the research field.</span>"
   ]
  },
  {
   "cell_type": "markdown",
   "id": "5de11ee6",
   "metadata": {
    "editable": true,
    "slideshow": {
     "slide_type": "fragment"
    },
    "tags": []
   },
   "source": [
    "We are doing better than random! But not much better."
   ]
  },
  {
   "cell_type": "markdown",
   "id": "0b60a731",
   "metadata": {
    "editable": true,
    "slideshow": {
     "slide_type": "subslide"
    },
    "tags": []
   },
   "source": [
    "### Why?"
   ]
  },
  {
   "cell_type": "markdown",
   "id": "a995c85a",
   "metadata": {
    "editable": true,
    "slideshow": {
     "slide_type": "fragment"
    },
    "tags": []
   },
   "source": [
    "1. Limited samples used for this tutorial.\n",
    "2. Difficult task.\n",
    "\n",
    "In our experiments, using much more data, we achieve around 89% balanced accuracy in this setting."
   ]
  },
  {
   "cell_type": "markdown",
   "id": "85fb9e44",
   "metadata": {
    "editable": true,
    "slideshow": {
     "slide_type": "subslide"
    },
    "tags": []
   },
   "source": [
    "# Leave One Subject Out Cross Validation"
   ]
  },
  {
   "cell_type": "markdown",
   "id": "4a7dea66",
   "metadata": {
    "editable": true,
    "slideshow": {
     "slide_type": "fragment"
    },
    "tags": []
   },
   "source": [
    "We need to define our groups, to perform this cross validation."
   ]
  },
  {
   "cell_type": "markdown",
   "id": "3f2e9d2a",
   "metadata": {},
   "source": [
    "<!-- write in red -->\n",
    "Similarly to the other validation method, we want to shuffle the data in each fold. However, the meethod LeaveOneGroupOut does not allow for data shuffling. We're using the `shuffle` method from `scikit-learn` to perform the shuffling on the initial dataset (but we shuffle with the groups as well!)."
   ]
  },
  {
   "cell_type": "code",
   "execution_count": 30,
   "id": "4871ec0f",
   "metadata": {},
   "outputs": [],
   "source": [
    "from sklearn.utils import shuffle\n",
    "\n",
    "X, y, groups = shuffle(X, y, groups, random_state=42)"
   ]
  },
  {
   "cell_type": "code",
   "execution_count": null,
   "id": "93ddf887",
   "metadata": {
    "editable": true,
    "slideshow": {
     "slide_type": "subslide"
    },
    "tags": []
   },
   "outputs": [],
   "source": [
    "from xgboost import XGBClassifier\n",
    "from sklearn.model_selection import cross_validate, LeaveOneGroupOut\n",
    "from sklearn.dummy import DummyClassifier\n",
    "\n",
    "# perform cross validation with xgboost and balanced accuracy\n",
    "xgb = XGBClassifier(random_state=42)\n",
    "baseline = DummyClassifier(strategy=\"uniform\", random_state=42)\n",
    "groups_instance = LeaveOneGroupOut()\n",
    "cv_results_xgboost = cross_validate(\n",
    "    xgb,\n",
    "    X,\n",
    "    y,\n",
    "    cv=groups_instance.split(X, y, groups=groups),\n",
    "    scoring=\"balanced_accuracy\",\n",
    "    return_train_score=True,\n",
    ")\n",
    "cv_results_dummy = cross_validate(\n",
    "    baseline,\n",
    "    X,\n",
    "    y,\n",
    "    cv=groups_instance.split(X, y, groups=groups),\n",
    "    scoring=\"balanced_accuracy\",\n",
    "    return_train_score=True,\n",
    ")"
   ]
  },
  {
   "cell_type": "code",
   "execution_count": null,
   "id": "f75a4c28",
   "metadata": {
    "editable": true,
    "slideshow": {
     "slide_type": "subslide"
    },
    "tags": []
   },
   "outputs": [],
   "source": [
    "print(\n",
    "    f\"Average validation score of XGBoost: %.2f ± %.2f %%\"\n",
    "    % (\n",
    "        100 * np.mean(cv_results_xgboost[\"test_score\"]),\n",
    "        100 * np.std(cv_results_xgboost[\"test_score\"]),\n",
    "    )\n",
    ")\n",
    "print(\n",
    "    f\"Average validation score of DummyClassifier: %.2f ± %.2f %%\"\n",
    "    % (\n",
    "        100 * np.mean(cv_results_dummy[\"test_score\"]),\n",
    "        100 * np.std(cv_results_dummy[\"test_score\"]),\n",
    "    )\n",
    ")"
   ]
  },
  {
   "cell_type": "markdown",
   "id": "bb024544",
   "metadata": {
    "editable": true,
    "slideshow": {
     "slide_type": "fragment"
    },
    "tags": []
   },
   "source": [
    "In this case, we are not doing better than random. Why?"
   ]
  },
  {
   "cell_type": "markdown",
   "id": "0484a55b",
   "metadata": {
    "editable": true,
    "slideshow": {
     "slide_type": "fragment"
    },
    "tags": []
   },
   "source": [
    "**Interpersonal variability**: people are different, and this is reflected in their physiological data."
   ]
  },
  {
   "cell_type": "markdown",
   "id": "ec758168",
   "metadata": {
    "editable": true,
    "slideshow": {
     "slide_type": "fragment"
    },
    "tags": []
   },
   "source": [
    "As such, right now, it is possible to predict engagement **only** if you have data from the same user."
   ]
  },
  {
   "cell_type": "markdown",
   "id": "44a255d4-15b7-44d7-be10-7e8702ead739",
   "metadata": {
    "editable": true,
    "slideshow": {
     "slide_type": "slide"
    },
    "tags": []
   },
   "source": [
    "# Any questions?"
   ]
  },
  {
   "cell_type": "markdown",
   "id": "00b67ee9-e1d1-42ce-af26-a1f5415eac9a",
   "metadata": {
    "editable": true,
    "slideshow": {
     "slide_type": "slide"
    },
    "tags": []
   },
   "source": [
    "![alt](images/end.jpg)"
   ]
  },
  {
   "cell_type": "markdown",
   "id": "94ac146f-e223-4021-9c93-6032a4aea40a",
   "metadata": {
    "editable": true,
    "slideshow": {
     "slide_type": "slide"
    },
    "tags": []
   },
   "source": [
    "# References\n",
    "\n",
    "[1] Vargha, A. and Delaney, H.D., 2000. A critique and improvement of the CL common language effect size statistics of McGraw and Wong. Journal of Educational and Behavioral Statistics, 25(2), pp.101-132.\n",
    "\n",
    "[3] Di Lascio, E., Gashi, S. and Santini, S., 2018. Unobtrusive assessment of students' emotional engagement during lectures using electrodermal activity sensors. Proceedings of the ACM on Interactive, Mobile, Wearable and Ubiquitous Technologies, 2(3), pp.1-21."
   ]
  }
 ],
 "metadata": {
  "celltoolbar": "Slideshow",
  "kernelspec": {
   "display_name": "mwct06",
   "language": "python",
   "name": "python3"
  },
  "language_info": {
   "codemirror_mode": {
    "name": "ipython",
    "version": 3
   },
   "file_extension": ".py",
   "mimetype": "text/x-python",
   "name": "python",
   "nbconvert_exporter": "python",
   "pygments_lexer": "ipython3",
   "version": "3.11.6"
  }
 },
 "nbformat": 4,
 "nbformat_minor": 5
}
